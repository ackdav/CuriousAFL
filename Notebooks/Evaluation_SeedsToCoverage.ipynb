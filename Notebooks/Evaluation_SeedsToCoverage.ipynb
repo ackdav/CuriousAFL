{
 "cells": [
  {
   "cell_type": "markdown",
   "metadata": {},
   "source": [
    "# AFL Edge Coverage Analysis  \n",
    "Convert a fuzzing run into a CSV of analysis data"
   ]
  },
  {
   "cell_type": "code",
   "execution_count": 2,
   "metadata": {},
   "outputs": [],
   "source": [
    "import os\n",
    "import platform\n",
    "import datetime\n",
    "from tqdm import tqdm\n",
    "import subprocess\n",
    "import numpy as np\n",
    "import datetime\n",
    "import seaborn as sb\n",
    "import matplotlib.pyplot as plt\n",
    "import pandas as pd\n",
    "import csv\n",
    "import io"
   ]
  },
  {
   "cell_type": "code",
   "execution_count": 3,
   "metadata": {},
   "outputs": [],
   "source": [
    "def creation_date(path_to_file):\n",
    "    \"\"\"\n",
    "    Try to get the date that a file was created, falling back to when it was\n",
    "    last modified if that isn't possible.\n",
    "    See http://stackoverflow.com/a/39501288/1709587 for explanation.\n",
    "    \"\"\"\n",
    "    if platform.system() == 'Windows':\n",
    "        return os.path.getctime(path_to_file)\n",
    "    else:\n",
    "        stat = os.stat(path_to_file)\n",
    "        try:\n",
    "            return stat.st_birthtime\n",
    "        except AttributeError:\n",
    "            # We're probably on Linux. No easy way to get creation dates here,\n",
    "            # so we'll settle for when its content was last modified.\n",
    "            return datetime.datetime.fromtimestamp(stat.st_mtime)\n",
    "\n",
    "def reading_files(seed_dir):\n",
    "    rows_list = []\n",
    "    for filename in sorted(os.listdir(seed_dir)):\n",
    "        if filename not in ['.state', '.cur_input']: \n",
    "            #file_created_date = creation_date(seed_dir + filename)\n",
    "            dict1 = {\n",
    "            'filename': filename,\n",
    "            'm_timestamp': pd.to_datetime(os.path.getmtime(seed_dir + filename), unit='s')\n",
    "            }\n",
    "            rows_list.append(dict1)\n",
    "            \n",
    "    df_files = pd.DataFrame(rows_list)\n",
    "    return pd.DataFrame(rows_list)\n",
    "\n",
    "def call_for_precoverage(files_in, program_call):\n",
    "    pre_coverage = []\n",
    "\n",
    "    for file in os.listdir(files_in):\n",
    "        out = subprocess.check_output(['afl-showmap', '-q', '-e', '-o', '/dev/stdout'] + program_call + [files_in + file])\n",
    "        for line in out.splitlines():\n",
    "            # PY 3.7 - added deencoding for compatibility\n",
    "            edge = line.decode('utf-8').split(':')[0]\n",
    "            pre_coverage.append(edge)\n",
    "    return pre_coverage\n",
    "\n",
    "def call_program_for_coverage(df_files, pre_coverage, program_call, seed_folder, save_location):\n",
    "    tmp_list = []\n",
    "    raw_bitmap = {}\n",
    "    df_files['total_coverage'] = -1\n",
    "    df_files['current_coverage'] = -1\n",
    "    df_files['total_coverage_own_finds'] = -1\n",
    "\n",
    "    with open('./' + save_location + '.csv', 'a') as file_:\n",
    "        writer = csv.DictWriter(file_, df_files.reset_index().columns[1:], delimiter=';')\n",
    "\n",
    "        if file_.tell() == 0:\n",
    "            writer.writeheader()\n",
    "\n",
    "        for row in tqdm(df_files.itertuples(index=False)):    \n",
    "            out = subprocess.check_output(['afl-showmap', '-q', '-e', '-o', '/dev/stdout'] + program_call + [seed_folder + row[0]])\n",
    "\n",
    "            tmp_cnt = []\n",
    "            for line in out.splitlines():\n",
    "                # PY 3.7 - added deencoding for compatibility\n",
    "                edge = line.decode('utf-8').split(':')[0]\n",
    "                tmp_cnt.append(edge)\n",
    "                tmp_list.append(edge)\n",
    "\n",
    "            row_dict = {\n",
    "            'filename': row[0],\n",
    "            'm_timestamp': row[1],\n",
    "            #'running_s': row[2],\n",
    "            #'pretty_mtime': row[3],\n",
    "            'current_coverage': len(np.unique(tmp_cnt)),\n",
    "            'total_coverage': len(np.unique(tmp_list)),\n",
    "            'total_coverage_own_finds': len(np.unique(list(set(tmp_list) - set(pre_coverage))))\n",
    "            }\n",
    "            writer.writerow(row_dict)\n",
    "\n",
    "            tmp_list = list(np.unique(tmp_list))"
   ]
  },
  {
   "cell_type": "code",
   "execution_count": 4,
   "metadata": {},
   "outputs": [],
   "source": [
    "fuzz_programs = {\n",
    "    'objdump'   : '/home/deif/gits/fuzztestbench/objdumppre/'\n",
    ",    'nm'       : '/home/deif/gits/fuzztestbench/nmpre/'\n",
    ",    'ffmpeg'   : '/home/deif/gits/fuzztestbench/ffmpegpre/'\n",
    ",    'harfbuzz' : '/home/deif/gits/fuzztestbench/harfbuzzpre/'\n",
    ",    'readelf'  : '/home/deif/gits/fuzztestbench/readelfpre/'\n",
    ",    'gif2png'  : '/home/deif/gits/fuzztestbench/gif2pngpre/'\n",
    ",    'mupdf'    : '/home/deif/gits/fuzztestbench/mupdfpre/'\n",
    ",    'size'     : '/home/deif/gits/fuzztestbench/sizepre/'\n",
    "}\n",
    "\n",
    "program_arguments = {\n",
    "    'objdump'   : 'objdump -D'\n",
    ",    'nm'       : 'nm-new -C'\n",
    ",    'ffmpeg'   : 'ffmpeg -i'\n",
    ",    'gif2png'  : 'gif2png'\n",
    ",    'mupdf'    : 'mutool show'\n",
    ",    'size'     : 'size'\n",
    ",    'harfbuzz' : 'hb-fuzzer' \n",
    ",    'readelf'  : 'readelf -a'\n",
    "}\n",
    "\n",
    "algorithms = ['afl', 'aflfast', 'curious', 'neuzz']"
   ]
  },
  {
   "cell_type": "code",
   "execution_count": 12,
   "metadata": {},
   "outputs": [
    {
     "data": {
      "text/plain": [
       "'neuzz'"
      ]
     },
     "execution_count": 12,
     "metadata": {},
     "output_type": "execute_result"
    }
   ],
   "source": [
    "algorithms[3]"
   ]
  },
  {
   "cell_type": "code",
   "execution_count": 19,
   "metadata": {},
   "outputs": [
    {
     "ename": "FileNotFoundError",
     "evalue": "[Errno 2] No such file or directory: '/home/deif/gits/neuzz/programs/mupdf/seeds/'",
     "output_type": "error",
     "traceback": [
      "\u001b[0;31m---------------------------------------------------------------------------\u001b[0m",
      "\u001b[0;31mFileNotFoundError\u001b[0m                         Traceback (most recent call last)",
      "\u001b[0;32m<ipython-input-19-a397b657c6da>\u001b[0m in \u001b[0;36m<module>\u001b[0;34m\u001b[0m\n\u001b[1;32m     17\u001b[0m         \u001b[0minseed_paths\u001b[0m\u001b[0;34m.\u001b[0m\u001b[0mappend\u001b[0m\u001b[0;34m(\u001b[0m\u001b[0;34m'/home/deif/gits/fuzztestbench/neuzzstarters/'\u001b[0m \u001b[0;34m+\u001b[0m \u001b[0mprogram\u001b[0m \u001b[0;34m+\u001b[0m \u001b[0;34m'/afl_in/'\u001b[0m\u001b[0;34m)\u001b[0m\u001b[0;31m#'/afl_out/queue/'\u001b[0m\u001b[0;34m\u001b[0m\u001b[0;34m\u001b[0m\u001b[0m\n\u001b[1;32m     18\u001b[0m \u001b[0;34m\u001b[0m\u001b[0m\n\u001b[0;32m---> 19\u001b[0;31m     \u001b[0;32mif\u001b[0m \u001b[0mlen\u001b[0m\u001b[0;34m(\u001b[0m\u001b[0mos\u001b[0m\u001b[0;34m.\u001b[0m\u001b[0mlistdir\u001b[0m\u001b[0;34m(\u001b[0m\u001b[0mseed_path\u001b[0m\u001b[0;34m)\u001b[0m\u001b[0;34m)\u001b[0m \u001b[0;34m>\u001b[0m \u001b[0;36m1\u001b[0m\u001b[0;34m:\u001b[0m\u001b[0;34m\u001b[0m\u001b[0;34m\u001b[0m\u001b[0m\n\u001b[0m\u001b[1;32m     20\u001b[0m         \u001b[0;32mif\u001b[0m \u001b[0;34m' '\u001b[0m \u001b[0;32min\u001b[0m \u001b[0mstr\u001b[0m\u001b[0;34m(\u001b[0m\u001b[0mprogram_arguments\u001b[0m\u001b[0;34m[\u001b[0m\u001b[0mprogram\u001b[0m\u001b[0;34m]\u001b[0m\u001b[0;34m)\u001b[0m\u001b[0;34m:\u001b[0m\u001b[0;34m\u001b[0m\u001b[0;34m\u001b[0m\u001b[0m\n\u001b[1;32m     21\u001b[0m             \u001b[0mprogram_call\u001b[0m \u001b[0;34m=\u001b[0m \u001b[0mstr\u001b[0m\u001b[0;34m(\u001b[0m\u001b[0mfuzz_programs\u001b[0m\u001b[0;34m[\u001b[0m\u001b[0mprogram\u001b[0m\u001b[0;34m]\u001b[0m\u001b[0;34m+\u001b[0m\u001b[0mprogram_arguments\u001b[0m\u001b[0;34m[\u001b[0m\u001b[0mprogram\u001b[0m\u001b[0;34m]\u001b[0m\u001b[0;34m)\u001b[0m\u001b[0;34m.\u001b[0m\u001b[0msplit\u001b[0m\u001b[0;34m(\u001b[0m\u001b[0;34m' '\u001b[0m\u001b[0;34m)\u001b[0m\u001b[0;34m\u001b[0m\u001b[0;34m\u001b[0m\u001b[0m\n",
      "\u001b[0;31mFileNotFoundError\u001b[0m: [Errno 2] No such file or directory: '/home/deif/gits/neuzz/programs/mupdf/seeds/'"
     ]
    }
   ],
   "source": [
    "program = 'mupdf'\n",
    "#for algorithm in algorithms[3]:\n",
    "    #algorithm = algorithms[3]\n",
    "algorithm = 'neuzz'\n",
    "for i in range(1,11):\n",
    "    base_path = fuzz_programs[program]\n",
    "\n",
    "    if algorithm == 'neuzz':\n",
    "        seed_path = '/home/deif/gits/neuzz/programs/'+program+'/seeds/'\n",
    "    else:\n",
    "        seed_path = base_path + program + 'pre' + algorithm + str(i) + '/afl_out/queue/'\n",
    "\n",
    "    save_location = 'edgecoverage/' + program + 'pre/' + program + 'pre' + algorithm + str(i)\n",
    "\n",
    "    inseed_paths = [base_path + program + 'pre' + algorithm + str(i) + '/afl_in/']\n",
    "    if algorithm == 'neuzz':\n",
    "        inseed_paths.append('/home/deif/gits/fuzztestbench/neuzzstarters/' + program + '/afl_in/')#'/afl_out/queue/'\n",
    "\n",
    "    if len(os.listdir(seed_path)) > 1:\n",
    "        if ' ' in str(program_arguments[program]):\n",
    "            program_call = str(fuzz_programs[program]+program_arguments[program]).split(' ')\n",
    "        else:\n",
    "            program_call = [fuzz_programs[program]+program_arguments[program]]\n",
    "\n",
    "        df_files = reading_files(seed_path)\n",
    "\n",
    "        # Running Time\n",
    "        creation_date = df_files.iloc[1]['m_timestamp']\n",
    "        df_files = df_files.loc[df_files['m_timestamp']<(creation_date + pd.Timedelta(days=1))]\n",
    "\n",
    "        #df_files['running_s'] = df_files['m_timestamp'] - creation_date\n",
    "        #df_files = df_files.sort_values('m_timestamp')\n",
    "        #df_files['running_s'] = df_files['running_s'].apply(lambda x: x if x.total_seconds()>0.0 else 0.0) \n",
    "\n",
    "        # Calling for pre-coverage (what coverage does the input have?)\n",
    "        pre_coverage = []\n",
    "        for inseed_path in inseed_paths:\n",
    "            pre_coverage += call_for_precoverage(inseed_path, program_call)\n",
    "\n",
    "        call_program_for_coverage(df_files, pre_coverage, program_call, seed_path, save_location)\n"
   ]
  },
  {
   "cell_type": "markdown",
   "metadata": {},
   "source": [
    "# NEUZZ special treatment  \n",
    "because the folder structure and seed handling make no sense at all"
   ]
  },
  {
   "cell_type": "code",
   "execution_count": 118,
   "metadata": {},
   "outputs": [],
   "source": [
    "program = 'objdump'"
   ]
  },
  {
   "cell_type": "code",
   "execution_count": 122,
   "metadata": {},
   "outputs": [],
   "source": [
    "df = pd.read_csv('./edgecoverage/' + program + 'pre/' + program + 'preneuzz1.csv', sep=\";\")\n",
    "df['m_timestamp'] = pd.to_datetime(df['m_timestamp'])"
   ]
  },
  {
   "cell_type": "markdown",
   "metadata": {},
   "source": [
    "### usual treatment - adjust initial seed timestamp to beginning of fuzzing"
   ]
  },
  {
   "cell_type": "code",
   "execution_count": 123,
   "metadata": {},
   "outputs": [],
   "source": [
    "df['m_timestamp'].iloc[0] = df['m_timestamp'].iloc[1]"
   ]
  },
  {
   "cell_type": "markdown",
   "metadata": {},
   "source": [
    "### special treatment - adjust neuzz's seeds to stop of AFL's seed corpus stop"
   ]
  },
  {
   "cell_type": "code",
   "execution_count": 133,
   "metadata": {},
   "outputs": [],
   "source": [
    "#find timedelta\n",
    "afl_neuzz_delta = df.loc[~df['filename'].str.startswith('id:00')].iloc[0]['m_timestamp'] - df.loc[df['filename'].str.startswith('id:00')].iloc[-1]['m_timestamp']"
   ]
  },
  {
   "cell_type": "code",
   "execution_count": 138,
   "metadata": {},
   "outputs": [
    {
     "name": "stderr",
     "output_type": "stream",
     "text": [
      "/home/deif/envs/fuzz/lib/python3.7/site-packages/ipykernel_launcher.py:1: SettingWithCopyWarning: \n",
      "A value is trying to be set on a copy of a slice from a DataFrame.\n",
      "Try using .loc[row_indexer,col_indexer] = value instead\n",
      "\n",
      "See the caveats in the documentation: http://pandas.pydata.org/pandas-docs/stable/user_guide/indexing.html#returning-a-view-versus-a-copy\n",
      "  \"\"\"Entry point for launching an IPython kernel.\n"
     ]
    }
   ],
   "source": [
    "df.loc[~df['filename'].str.startswith('id:00')]['m_timestamp'] = df.loc[~df['filename'].str.startswith('id:00')]['m_timestamp'] - afl_neuzz_delta"
   ]
  },
  {
   "cell_type": "markdown",
   "metadata": {},
   "source": [
    "### phew that was ... strange"
   ]
  },
  {
   "cell_type": "code",
   "execution_count": 146,
   "metadata": {},
   "outputs": [],
   "source": [
    "df['running_s'] = round((df['m_timestamp'] - df['m_timestamp'].iloc[0]).dt.total_seconds(), 0)"
   ]
  },
  {
   "cell_type": "code",
   "execution_count": 148,
   "metadata": {},
   "outputs": [
    {
     "data": {
      "text/html": [
       "<div>\n",
       "<style scoped>\n",
       "    .dataframe tbody tr th:only-of-type {\n",
       "        vertical-align: middle;\n",
       "    }\n",
       "\n",
       "    .dataframe tbody tr th {\n",
       "        vertical-align: top;\n",
       "    }\n",
       "\n",
       "    .dataframe thead th {\n",
       "        text-align: right;\n",
       "    }\n",
       "</style>\n",
       "<table border=\"1\" class=\"dataframe\">\n",
       "  <thead>\n",
       "    <tr style=\"text-align: right;\">\n",
       "      <th></th>\n",
       "      <th>filename</th>\n",
       "      <th>m_timestamp</th>\n",
       "      <th>total_coverage</th>\n",
       "      <th>current_coverage</th>\n",
       "      <th>total_coverage_own_finds</th>\n",
       "      <th>running_s</th>\n",
       "    </tr>\n",
       "  </thead>\n",
       "  <tbody>\n",
       "    <tr>\n",
       "      <td>0</td>\n",
       "      <td>id:000000,orig:test</td>\n",
       "      <td>2019-10-29 12:44:34.657858304</td>\n",
       "      <td>2325</td>\n",
       "      <td>2325</td>\n",
       "      <td>0</td>\n",
       "      <td>0.0</td>\n",
       "    </tr>\n",
       "    <tr>\n",
       "      <td>962</td>\n",
       "      <td>id:000962,src:000000,op:flip4,pos:7200</td>\n",
       "      <td>2019-10-29 12:44:34.673858048</td>\n",
       "      <td>3790</td>\n",
       "      <td>2285</td>\n",
       "      <td>1465</td>\n",
       "      <td>0.0</td>\n",
       "    </tr>\n",
       "    <tr>\n",
       "      <td>961</td>\n",
       "      <td>id:000961,src:000000,op:flip4,pos:6961</td>\n",
       "      <td>2019-10-29 12:44:34.729857792</td>\n",
       "      <td>3790</td>\n",
       "      <td>2323</td>\n",
       "      <td>1465</td>\n",
       "      <td>0.0</td>\n",
       "    </tr>\n",
       "    <tr>\n",
       "      <td>960</td>\n",
       "      <td>id:000960,src:000000,op:flip4,pos:6960</td>\n",
       "      <td>2019-10-29 12:44:34.705858048</td>\n",
       "      <td>3790</td>\n",
       "      <td>2323</td>\n",
       "      <td>1465</td>\n",
       "      <td>0.0</td>\n",
       "    </tr>\n",
       "    <tr>\n",
       "      <td>959</td>\n",
       "      <td>id:000959,src:000000,op:flip4,pos:6948</td>\n",
       "      <td>2019-10-29 12:44:34.701858048</td>\n",
       "      <td>3790</td>\n",
       "      <td>2317</td>\n",
       "      <td>1465</td>\n",
       "      <td>0.0</td>\n",
       "    </tr>\n",
       "    <tr>\n",
       "      <td>...</td>\n",
       "      <td>...</td>\n",
       "      <td>...</td>\n",
       "      <td>...</td>\n",
       "      <td>...</td>\n",
       "      <td>...</td>\n",
       "      <td>...</td>\n",
       "    </tr>\n",
       "    <tr>\n",
       "      <td>4491</td>\n",
       "      <td>id_4_003451</td>\n",
       "      <td>2019-10-30 12:40:48.422595840</td>\n",
       "      <td>6027</td>\n",
       "      <td>1775</td>\n",
       "      <td>3702</td>\n",
       "      <td>86174.0</td>\n",
       "    </tr>\n",
       "    <tr>\n",
       "      <td>4561</td>\n",
       "      <td>id_4_8_003452</td>\n",
       "      <td>2019-10-30 12:41:52.122006528</td>\n",
       "      <td>6056</td>\n",
       "      <td>1768</td>\n",
       "      <td>3731</td>\n",
       "      <td>86237.0</td>\n",
       "    </tr>\n",
       "    <tr>\n",
       "      <td>4574</td>\n",
       "      <td>id_4_9_003453</td>\n",
       "      <td>2019-10-30 12:42:01.833916672</td>\n",
       "      <td>6059</td>\n",
       "      <td>1794</td>\n",
       "      <td>3734</td>\n",
       "      <td>86247.0</td>\n",
       "    </tr>\n",
       "    <tr>\n",
       "      <td>4524</td>\n",
       "      <td>id_4_12_003454_cov</td>\n",
       "      <td>2019-10-30 12:42:07.489864448</td>\n",
       "      <td>6042</td>\n",
       "      <td>309</td>\n",
       "      <td>3717</td>\n",
       "      <td>86253.0</td>\n",
       "    </tr>\n",
       "    <tr>\n",
       "      <td>4562</td>\n",
       "      <td>id_4_8_003456</td>\n",
       "      <td>2019-10-30 12:43:48.736923904</td>\n",
       "      <td>6056</td>\n",
       "      <td>1748</td>\n",
       "      <td>3731</td>\n",
       "      <td>86354.0</td>\n",
       "    </tr>\n",
       "  </tbody>\n",
       "</table>\n",
       "<p>4575 rows × 6 columns</p>\n",
       "</div>"
      ],
      "text/plain": [
       "                                    filename                   m_timestamp  \\\n",
       "0                        id:000000,orig:test 2019-10-29 12:44:34.657858304   \n",
       "962   id:000962,src:000000,op:flip4,pos:7200 2019-10-29 12:44:34.673858048   \n",
       "961   id:000961,src:000000,op:flip4,pos:6961 2019-10-29 12:44:34.729857792   \n",
       "960   id:000960,src:000000,op:flip4,pos:6960 2019-10-29 12:44:34.705858048   \n",
       "959   id:000959,src:000000,op:flip4,pos:6948 2019-10-29 12:44:34.701858048   \n",
       "...                                      ...                           ...   \n",
       "4491                             id_4_003451 2019-10-30 12:40:48.422595840   \n",
       "4561                           id_4_8_003452 2019-10-30 12:41:52.122006528   \n",
       "4574                           id_4_9_003453 2019-10-30 12:42:01.833916672   \n",
       "4524                      id_4_12_003454_cov 2019-10-30 12:42:07.489864448   \n",
       "4562                           id_4_8_003456 2019-10-30 12:43:48.736923904   \n",
       "\n",
       "      total_coverage  current_coverage  total_coverage_own_finds  running_s  \n",
       "0               2325              2325                         0        0.0  \n",
       "962             3790              2285                      1465        0.0  \n",
       "961             3790              2323                      1465        0.0  \n",
       "960             3790              2323                      1465        0.0  \n",
       "959             3790              2317                      1465        0.0  \n",
       "...              ...               ...                       ...        ...  \n",
       "4491            6027              1775                      3702    86174.0  \n",
       "4561            6056              1768                      3731    86237.0  \n",
       "4574            6059              1794                      3734    86247.0  \n",
       "4524            6042               309                      3717    86253.0  \n",
       "4562            6056              1748                      3731    86354.0  \n",
       "\n",
       "[4575 rows x 6 columns]"
      ]
     },
     "execution_count": 148,
     "metadata": {},
     "output_type": "execute_result"
    }
   ],
   "source": [
    "df.sort_values('running_s')"
   ]
  },
  {
   "cell_type": "code",
   "execution_count": null,
   "metadata": {},
   "outputs": [],
   "source": [
    "df = df.sort_values('m_timestamp').reset_index()"
   ]
  },
  {
   "cell_type": "code",
   "execution_count": null,
   "metadata": {},
   "outputs": [],
   "source": []
  },
  {
   "cell_type": "code",
   "execution_count": 25,
   "metadata": {
    "collapsed": true,
    "jupyter": {
     "outputs_hidden": true
    }
   },
   "outputs": [
    {
     "name": "stdout",
     "output_type": "stream",
     "text": [
      "001895:1\n",
      "002350:1\n",
      "004335:1\n",
      "005607:1\n",
      "005668:1\n",
      "005954:1\n",
      "006590:1\n",
      "007156:1\n",
      "007475:1\n",
      "008670:1\n",
      "011207:1\n",
      "011980:1\n",
      "012286:1\n",
      "012885:1\n",
      "013252:1\n",
      "013459:1\n",
      "014171:1\n",
      "015041:1\n",
      "015921:1\n",
      "016065:1\n",
      "017420:1\n",
      "020152:1\n",
      "020200:1\n",
      "020524:1\n",
      "020778:1\n",
      "020890:1\n",
      "021760:1\n",
      "022338:1\n",
      "024704:1\n",
      "024996:1\n",
      "025088:1\n",
      "026675:1\n",
      "026837:1\n",
      "027026:1\n",
      "027259:1\n",
      "027873:1\n",
      "028671:1\n",
      "029302:1\n",
      "030615:1\n",
      "030700:1\n",
      "032120:1\n",
      "032568:1\n",
      "033755:1\n",
      "037449:1\n",
      "037466:1\n",
      "039514:1\n",
      "040464:1\n",
      "041465:1\n",
      "042148:1\n",
      "042175:1\n",
      "042255:1\n",
      "044274:1\n",
      "045754:1\n",
      "046614:1\n",
      "047432:1\n",
      "049478:1\n",
      "050852:1\n",
      "052174:1\n",
      "052365:1\n",
      "052453:1\n",
      "052951:1\n",
      "053011:1\n",
      "053058:1\n",
      "053393:1\n",
      "054019:1\n",
      "054125:1\n",
      "054284:1\n",
      "055033:1\n",
      "055192:1\n",
      "055304:1\n",
      "056087:1\n",
      "057647:1\n",
      "057740:1\n",
      "059358:1\n",
      "059885:1\n",
      "060908:1\n",
      "061579:1\n",
      "062055:1\n",
      "062961:1\n",
      "064060:1\n",
      "064791:1\n"
     ]
    }
   ],
   "source": [
    "! afl-showmap -qeo /dev/stdout /home/deif/gits/fuzztestbench/cxxfiltpre/cxxfilt /home/deif/gits/fuzztestbench/cxxfiltpre/cxxfiltpreafl1/afl_in/uninformed"
   ]
  },
  {
   "cell_type": "code",
   "execution_count": 23,
   "metadata": {},
   "outputs": [
    {
     "name": "stdout",
     "output_type": "stream",
     "text": [
      "ABC...XYZabc...xyz012...789!¨$...˜+*\n",
      "\u001b[K\u001b[7m(END)\u001b[m\u001b[K/fuzztestbench/cxxfiltpre/cxxfiltpreafl1/afl_in/uninformed (END)\u001b[m\u001b[K\u0007"
     ]
    }
   ],
   "source": [
    "! less /home/deif/gits/fuzztestbench/cxxfiltpre/cxxfiltpreafl1/afl_in/uninformed"
   ]
  },
  {
   "cell_type": "code",
   "execution_count": 62,
   "metadata": {},
   "outputs": [
    {
     "data": {
      "text/plain": [
       "0      2019-10-21 15:45:21.512081385\n",
       "1      2019-10-21 15:56:26.518252373\n",
       "2      2019-10-21 15:56:26.530252218\n",
       "3      2019-10-21 15:56:26.534252167\n",
       "4      2019-10-21 15:56:52.538024664\n",
       "                    ...             \n",
       "4967   2019-10-22 15:50:36.436403990\n",
       "4968   2019-10-22 15:52:23.231396437\n",
       "4969   2019-10-22 15:55:49.241458178\n",
       "4970   2019-10-22 15:54:46.934043646\n",
       "4971   2019-10-22 15:54:58.233937502\n",
       "Name: m_timestamp, Length: 4972, dtype: datetime64[ns]"
      ]
     },
     "execution_count": 62,
     "metadata": {},
     "output_type": "execute_result"
    }
   ],
   "source": []
  },
  {
   "cell_type": "code",
   "execution_count": 98,
   "metadata": {},
   "outputs": [],
   "source": [
    "df = pd.read_csv('./edgecoverage/objdumppre/objdumpprecurious1.csv', sep=\";\")\n",
    "#df = df.reset_index()\n",
    "del df['index']\n",
    "df['m_timestamp'] = pd.to_datetime(df['m_timestamp'])\n",
    "df = df.sort_values('m_timestamp').reset_index()"
   ]
  },
  {
   "cell_type": "code",
   "execution_count": 99,
   "metadata": {},
   "outputs": [
    {
     "data": {
      "text/plain": [
       "0    2019-10-21 15:45:21.512081385\n",
       "1    2019-10-21 15:56:26.518252373\n",
       "2    2019-10-21 15:56:26.530252218\n",
       "3    2019-10-21 15:56:26.534252167\n",
       "4    2019-10-21 15:56:26.626251459\n",
       "5    2019-10-21 15:56:26.646251202\n",
       "6    2019-10-21 15:56:26.658251047\n",
       "7    2019-10-21 15:56:26.674250841\n",
       "8    2019-10-21 15:56:26.698250771\n",
       "9    2019-10-21 15:56:26.710250616\n",
       "10   2019-10-21 15:56:26.726250410\n",
       "11   2019-10-21 15:56:26.742250443\n",
       "12   2019-10-21 15:56:26.762250185\n",
       "13   2019-10-21 15:56:26.774250031\n",
       "14   2019-10-21 15:56:26.790249825\n",
       "15   2019-10-21 15:56:26.806249857\n",
       "16   2019-10-21 15:56:26.854249239\n",
       "17   2019-10-21 15:56:26.882249117\n",
       "18   2019-10-21 15:56:26.902248859\n",
       "19   2019-10-21 15:56:26.918248892\n",
       "Name: m_timestamp, dtype: datetime64[ns]"
      ]
     },
     "execution_count": 99,
     "metadata": {},
     "output_type": "execute_result"
    }
   ],
   "source": [
    "df['m_timestamp'][:20]"
   ]
  },
  {
   "cell_type": "code",
   "execution_count": 100,
   "metadata": {},
   "outputs": [],
   "source": [
    "timestamps = []\n",
    "\n",
    "for index, row in enumerate(list(df['m_timestamp'])):\n",
    "    if index == 0:\n",
    "        timestamps.append(df['m_timestamp'][index]-df['m_timestamp'][0])        \n",
    "    else:\n",
    "        timestamps.append(df['m_timestamp'][index]-df['m_timestamp'][index-1])\n"
   ]
  },
  {
   "cell_type": "code",
   "execution_count": 105,
   "metadata": {},
   "outputs": [
    {
     "data": {
      "text/plain": [
       "0   00:11:05.006170\n",
       "dtype: timedelta64[ns]"
      ]
     },
     "execution_count": 105,
     "metadata": {},
     "output_type": "execute_result"
    }
   ],
   "source": [
    "pd.DataFrame(timestamps).max()"
   ]
  },
  {
   "cell_type": "code",
   "execution_count": 104,
   "metadata": {},
   "outputs": [
    {
     "data": {
      "text/plain": [
       "Timestamp('2019-10-22 15:55:49.241458178')"
      ]
     },
     "execution_count": 104,
     "metadata": {},
     "output_type": "execute_result"
    }
   ],
   "source": [
    "df['m_timestamp'].max()"
   ]
  },
  {
   "cell_type": "code",
   "execution_count": 50,
   "metadata": {},
   "outputs": [
    {
     "ename": "KeyError",
     "evalue": "'running_s'",
     "output_type": "error",
     "traceback": [
      "\u001b[0;31m---------------------------------------------------------------------------\u001b[0m",
      "\u001b[0;31mKeyError\u001b[0m                                  Traceback (most recent call last)",
      "\u001b[0;32m~/envs/fuzz/lib/python3.7/site-packages/pandas/core/indexes/base.py\u001b[0m in \u001b[0;36mget_loc\u001b[0;34m(self, key, method, tolerance)\u001b[0m\n\u001b[1;32m   2896\u001b[0m             \u001b[0;32mtry\u001b[0m\u001b[0;34m:\u001b[0m\u001b[0;34m\u001b[0m\u001b[0;34m\u001b[0m\u001b[0m\n\u001b[0;32m-> 2897\u001b[0;31m                 \u001b[0;32mreturn\u001b[0m \u001b[0mself\u001b[0m\u001b[0;34m.\u001b[0m\u001b[0m_engine\u001b[0m\u001b[0;34m.\u001b[0m\u001b[0mget_loc\u001b[0m\u001b[0;34m(\u001b[0m\u001b[0mkey\u001b[0m\u001b[0;34m)\u001b[0m\u001b[0;34m\u001b[0m\u001b[0;34m\u001b[0m\u001b[0m\n\u001b[0m\u001b[1;32m   2898\u001b[0m             \u001b[0;32mexcept\u001b[0m \u001b[0mKeyError\u001b[0m\u001b[0;34m:\u001b[0m\u001b[0;34m\u001b[0m\u001b[0;34m\u001b[0m\u001b[0m\n",
      "\u001b[0;32mpandas/_libs/index.pyx\u001b[0m in \u001b[0;36mpandas._libs.index.IndexEngine.get_loc\u001b[0;34m()\u001b[0m\n",
      "\u001b[0;32mpandas/_libs/index.pyx\u001b[0m in \u001b[0;36mpandas._libs.index.IndexEngine.get_loc\u001b[0;34m()\u001b[0m\n",
      "\u001b[0;32mpandas/_libs/hashtable_class_helper.pxi\u001b[0m in \u001b[0;36mpandas._libs.hashtable.PyObjectHashTable.get_item\u001b[0;34m()\u001b[0m\n",
      "\u001b[0;32mpandas/_libs/hashtable_class_helper.pxi\u001b[0m in \u001b[0;36mpandas._libs.hashtable.PyObjectHashTable.get_item\u001b[0;34m()\u001b[0m\n",
      "\u001b[0;31mKeyError\u001b[0m: 'running_s'",
      "\nDuring handling of the above exception, another exception occurred:\n",
      "\u001b[0;31mKeyError\u001b[0m                                  Traceback (most recent call last)",
      "\u001b[0;32m<ipython-input-50-a8a129ec89b9>\u001b[0m in \u001b[0;36m<module>\u001b[0;34m\u001b[0m\n\u001b[0;32m----> 1\u001b[0;31m \u001b[0mdf\u001b[0m\u001b[0;34m[\u001b[0m\u001b[0;34m'running_s'\u001b[0m\u001b[0;34m]\u001b[0m\u001b[0;34m.\u001b[0m\u001b[0mdtypes\u001b[0m\u001b[0;34m\u001b[0m\u001b[0;34m\u001b[0m\u001b[0m\n\u001b[0m",
      "\u001b[0;32m~/envs/fuzz/lib/python3.7/site-packages/pandas/core/frame.py\u001b[0m in \u001b[0;36m__getitem__\u001b[0;34m(self, key)\u001b[0m\n\u001b[1;32m   2978\u001b[0m             \u001b[0;32mif\u001b[0m \u001b[0mself\u001b[0m\u001b[0;34m.\u001b[0m\u001b[0mcolumns\u001b[0m\u001b[0;34m.\u001b[0m\u001b[0mnlevels\u001b[0m \u001b[0;34m>\u001b[0m \u001b[0;36m1\u001b[0m\u001b[0;34m:\u001b[0m\u001b[0;34m\u001b[0m\u001b[0;34m\u001b[0m\u001b[0m\n\u001b[1;32m   2979\u001b[0m                 \u001b[0;32mreturn\u001b[0m \u001b[0mself\u001b[0m\u001b[0;34m.\u001b[0m\u001b[0m_getitem_multilevel\u001b[0m\u001b[0;34m(\u001b[0m\u001b[0mkey\u001b[0m\u001b[0;34m)\u001b[0m\u001b[0;34m\u001b[0m\u001b[0;34m\u001b[0m\u001b[0m\n\u001b[0;32m-> 2980\u001b[0;31m             \u001b[0mindexer\u001b[0m \u001b[0;34m=\u001b[0m \u001b[0mself\u001b[0m\u001b[0;34m.\u001b[0m\u001b[0mcolumns\u001b[0m\u001b[0;34m.\u001b[0m\u001b[0mget_loc\u001b[0m\u001b[0;34m(\u001b[0m\u001b[0mkey\u001b[0m\u001b[0;34m)\u001b[0m\u001b[0;34m\u001b[0m\u001b[0;34m\u001b[0m\u001b[0m\n\u001b[0m\u001b[1;32m   2981\u001b[0m             \u001b[0;32mif\u001b[0m \u001b[0mis_integer\u001b[0m\u001b[0;34m(\u001b[0m\u001b[0mindexer\u001b[0m\u001b[0;34m)\u001b[0m\u001b[0;34m:\u001b[0m\u001b[0;34m\u001b[0m\u001b[0;34m\u001b[0m\u001b[0m\n\u001b[1;32m   2982\u001b[0m                 \u001b[0mindexer\u001b[0m \u001b[0;34m=\u001b[0m \u001b[0;34m[\u001b[0m\u001b[0mindexer\u001b[0m\u001b[0;34m]\u001b[0m\u001b[0;34m\u001b[0m\u001b[0;34m\u001b[0m\u001b[0m\n",
      "\u001b[0;32m~/envs/fuzz/lib/python3.7/site-packages/pandas/core/indexes/base.py\u001b[0m in \u001b[0;36mget_loc\u001b[0;34m(self, key, method, tolerance)\u001b[0m\n\u001b[1;32m   2897\u001b[0m                 \u001b[0;32mreturn\u001b[0m \u001b[0mself\u001b[0m\u001b[0;34m.\u001b[0m\u001b[0m_engine\u001b[0m\u001b[0;34m.\u001b[0m\u001b[0mget_loc\u001b[0m\u001b[0;34m(\u001b[0m\u001b[0mkey\u001b[0m\u001b[0;34m)\u001b[0m\u001b[0;34m\u001b[0m\u001b[0;34m\u001b[0m\u001b[0m\n\u001b[1;32m   2898\u001b[0m             \u001b[0;32mexcept\u001b[0m \u001b[0mKeyError\u001b[0m\u001b[0;34m:\u001b[0m\u001b[0;34m\u001b[0m\u001b[0;34m\u001b[0m\u001b[0m\n\u001b[0;32m-> 2899\u001b[0;31m                 \u001b[0;32mreturn\u001b[0m \u001b[0mself\u001b[0m\u001b[0;34m.\u001b[0m\u001b[0m_engine\u001b[0m\u001b[0;34m.\u001b[0m\u001b[0mget_loc\u001b[0m\u001b[0;34m(\u001b[0m\u001b[0mself\u001b[0m\u001b[0;34m.\u001b[0m\u001b[0m_maybe_cast_indexer\u001b[0m\u001b[0;34m(\u001b[0m\u001b[0mkey\u001b[0m\u001b[0;34m)\u001b[0m\u001b[0;34m)\u001b[0m\u001b[0;34m\u001b[0m\u001b[0;34m\u001b[0m\u001b[0m\n\u001b[0m\u001b[1;32m   2900\u001b[0m         \u001b[0mindexer\u001b[0m \u001b[0;34m=\u001b[0m \u001b[0mself\u001b[0m\u001b[0;34m.\u001b[0m\u001b[0mget_indexer\u001b[0m\u001b[0;34m(\u001b[0m\u001b[0;34m[\u001b[0m\u001b[0mkey\u001b[0m\u001b[0;34m]\u001b[0m\u001b[0;34m,\u001b[0m \u001b[0mmethod\u001b[0m\u001b[0;34m=\u001b[0m\u001b[0mmethod\u001b[0m\u001b[0;34m,\u001b[0m \u001b[0mtolerance\u001b[0m\u001b[0;34m=\u001b[0m\u001b[0mtolerance\u001b[0m\u001b[0;34m)\u001b[0m\u001b[0;34m\u001b[0m\u001b[0;34m\u001b[0m\u001b[0m\n\u001b[1;32m   2901\u001b[0m         \u001b[0;32mif\u001b[0m \u001b[0mindexer\u001b[0m\u001b[0;34m.\u001b[0m\u001b[0mndim\u001b[0m \u001b[0;34m>\u001b[0m \u001b[0;36m1\u001b[0m \u001b[0;32mor\u001b[0m \u001b[0mindexer\u001b[0m\u001b[0;34m.\u001b[0m\u001b[0msize\u001b[0m \u001b[0;34m>\u001b[0m \u001b[0;36m1\u001b[0m\u001b[0;34m:\u001b[0m\u001b[0;34m\u001b[0m\u001b[0;34m\u001b[0m\u001b[0m\n",
      "\u001b[0;32mpandas/_libs/index.pyx\u001b[0m in \u001b[0;36mpandas._libs.index.IndexEngine.get_loc\u001b[0;34m()\u001b[0m\n",
      "\u001b[0;32mpandas/_libs/index.pyx\u001b[0m in \u001b[0;36mpandas._libs.index.IndexEngine.get_loc\u001b[0;34m()\u001b[0m\n",
      "\u001b[0;32mpandas/_libs/hashtable_class_helper.pxi\u001b[0m in \u001b[0;36mpandas._libs.hashtable.PyObjectHashTable.get_item\u001b[0;34m()\u001b[0m\n",
      "\u001b[0;32mpandas/_libs/hashtable_class_helper.pxi\u001b[0m in \u001b[0;36mpandas._libs.hashtable.PyObjectHashTable.get_item\u001b[0;34m()\u001b[0m\n",
      "\u001b[0;31mKeyError\u001b[0m: 'running_s'"
     ]
    }
   ],
   "source": [
    "df['running_s'].dtypes"
   ]
  },
  {
   "cell_type": "code",
   "execution_count": 45,
   "metadata": {},
   "outputs": [
    {
     "data": {
      "text/plain": [
       "filename                    object\n",
       "m_timestamp                 object\n",
       "running_s                   object\n",
       "total_coverage               int64\n",
       "current_coverage             int64\n",
       "total_coverage_own_finds     int64\n",
       "dtype: object"
      ]
     },
     "execution_count": 45,
     "metadata": {},
     "output_type": "execute_result"
    }
   ],
   "source": [
    "df.dtypes"
   ]
  },
  {
   "cell_type": "code",
   "execution_count": 2,
   "metadata": {},
   "outputs": [],
   "source": [
    "\n",
    "def seed_to_data_frame_coverage(args):\n",
    "    df_files = reading_files(args.seedfolder)\n",
    "\n",
    "    #df_files = df_files.sort_values(by=['m_timestamp'])\n",
    "    \n",
    "    \n",
    "    #df_files['modification_date'] = df_files['modification_date'].dt.round('1s')\n",
    "    # df_files['modification_date'] = df_files['modification_date'].apply(lambda x: x.time())\n",
    "    creation_date = df_files.iloc[1]['m_timestamp']\n",
    "    df_files['running_s'] = df_files['m_timestamp'] - creation_date\n",
    "    df_files['running_s'] = df_files['running_s'].apply(lambda x: x if x.total_seconds()>0.0 else 0.0) \n",
    "    #df_files['pretty_mtime'] = df_files['m_timestamp'].apply(lambda x: datetime.datetime.fromtimestamp(x))\n",
    "\n",
    "    pre_coverage = call_for_precoverage(args.inseedfolder, args)\n",
    "    call_program_for_coverage(df_files, pre_coverage, args)"
   ]
  },
  {
   "cell_type": "code",
   "execution_count": 3,
   "metadata": {},
   "outputs": [],
   "source": [
    "fuzz_programs = {\n",
    "    'objdump' : '/home/deif/gits/fuzztestbench/objdumppre/'\n",
    ",    'nm' : '/home/deif/gits/fuzztestbench/nmpre/'\n",
    ",    'ffmpeg' : '/home/deif/gits/fuzztestbench/ffmpegpre/'\n",
    ",    'harfbuzz' : '/home/deif/gits/fuzztestbench/harfbuzzpre/'\n",
    ",    'cxxfilt' : '/home/deif/gits/fuzztestbench/cxxfiltpre/'\n",
    ",    'gif2png' : '/home/deif/gits/fuzztestbench/gif2pngpre/'\n",
    ",    'mupdf' : '/home/deif/gits/fuzztestbench/mupdfpre/'\n",
    ",    'size' : '/home/deif/gits/fuzztestbench/sizepre/'\n",
    "}\n",
    "\n"
   ]
  },
  {
   "cell_type": "code",
   "execution_count": 5,
   "metadata": {},
   "outputs": [],
   "source": [
    "df_files['prefile'] = df_files['filename'].apply(lambda x: x in os.listdir('./objdump/neuzz_in/'))\n"
   ]
  },
  {
   "cell_type": "code",
   "execution_count": 36,
   "metadata": {},
   "outputs": [
    {
     "name": "stderr",
     "output_type": "stream",
     "text": [
      "/home/david/Documents/envs/fuzz/lib/python3.7/site-packages/ipykernel_launcher.py:6: SettingWithCopyWarning: \n",
      "A value is trying to be set on a copy of a slice from a DataFrame\n",
      "\n",
      "See the caveats in the documentation: http://pandas.pydata.org/pandas-docs/stable/user_guide/indexing.html#returning-a-view-versus-a-copy\n",
      "  \n",
      "/home/david/Documents/envs/fuzz/lib/python3.7/site-packages/ipykernel_launcher.py:10: SettingWithCopyWarning: \n",
      "A value is trying to be set on a copy of a slice from a DataFrame.\n",
      "Try using .loc[row_indexer,col_indexer] = value instead\n",
      "\n",
      "See the caveats in the documentation: http://pandas.pydata.org/pandas-docs/stable/user_guide/indexing.html#returning-a-view-versus-a-copy\n",
      "  # Remove the CWD from sys.path while we load stuff.\n"
     ]
    }
   ],
   "source": [
    "df_files = reading_files('./objdump/seeds/')\n",
    "df_files['prefile'] = df_files['filename'].apply(lambda x: x in os.listdir('./objdump/neuzz_in/'))\n",
    "\n",
    "creation_date = df_files.iloc[1]['m_timestamp']\n",
    "# cheat null point of campaign -> to match in file to creation date\n",
    "df_files.iloc[0]['m_timestamp'] = df_files.iloc[1]['m_timestamp']\n",
    "\n",
    "# rebase campaign times to match AFL campaign\n",
    "afl_campaign_delta = pd.Timestamp(df_files.iloc[df_files.loc[df_files.prefile==False].index[0]-1]['m_timestamp']) - pd.Timestamp(df_files.iloc[df_files.loc[df_files.prefile==False].index[0]]['m_timestamp']) \n",
    "df_files.loc[df_files.prefile==False]['m_timestamp'] = df_files.loc[df_files.prefile==False]['m_timestamp'].apply(lambda x: x - afl_campaign_delta)\n",
    "#campaign_start_date = df_files.loc[df_files.prefile==False].iloc[0]['m_timestamp']"
   ]
  },
  {
   "cell_type": "code",
   "execution_count": null,
   "metadata": {},
   "outputs": [],
   "source": [
    "df_files = reading_files(args.seedfolder)\n",
    "\n",
    "df_files = df_files.sort_values(by=['m_timestamp'])\n",
    "#df_files['modification_date'] = df_files['modification_date'].dt.round('1s')\n",
    "# df_files['modification_date'] = df_files['modification_date'].apply(lambda x: x.time())\n",
    "creation_date = df_files.iloc[1]['m_timestamp']\n",
    "df_files['running_s'] = df_files['m_timestamp'] - creation_date\n",
    "df_files['running_s'] = df_files['running_s'].apply(lambda x: x if x.total_seconds()>0.0 else 0.0) \n",
    "#df_files['pretty_mtime'] = df_files['m_timestamp'].apply(lambda x: datetime.datetime.fromtimestamp(x))\n",
    "\n",
    "pre_coverage = call_for_precoverage(args.inseedfolder, args)\n",
    "call_program_for_coverage(df_files, pre_coverage, args)"
   ]
  },
  {
   "cell_type": "code",
   "execution_count": 2,
   "metadata": {},
   "outputs": [],
   "source": [
    "def creation_date(path_to_file):\n",
    "    \"\"\"\n",
    "    Try to get the date that a file was created, falling back to when it was\n",
    "    last modified if that isn't possible.\n",
    "    See http://stackoverflow.com/a/39501288/1709587 for explanation.\n",
    "    \"\"\"\n",
    "    if platform.system() == 'Windows':\n",
    "        return os.path.getctime(path_to_file)\n",
    "    else:\n",
    "        stat = os.stat(path_to_file)\n",
    "        try:\n",
    "            return stat.st_birthtime\n",
    "        except AttributeError:\n",
    "            # We're probably on Linux. No easy way to get creation dates here,\n",
    "            # so we'll settle for when its content was last modified.\n",
    "            return stat.st_mtime\n",
    "\n",
    "def convert_timedelta(duration):\n",
    "    days, seconds = duration.days, duration.seconds\n",
    "    hours = days * 24 + seconds // 3600\n",
    "    minutes = (seconds % 3600) // 60\n",
    "    seconds = (seconds % 60)\n",
    "    return hours, minutes, seconds\n"
   ]
  },
  {
   "cell_type": "markdown",
   "metadata": {},
   "source": [
    "### TODO: how to identify seeds copied? to get correct start date of fuzzing campaign"
   ]
  },
  {
   "cell_type": "code",
   "execution_count": 12,
   "metadata": {},
   "outputs": [],
   "source": [
    "project_dir = '/home/david/Documents/gits/MA-Scripts/SeedFolderToCoverageData/objdumppreafl1/'\n",
    "seed_dir = project_dir + 'afl_out/queue/'\n",
    "exec_dir = project_dir + 'objdump'\n",
    "in_dir = project_dir + 'afl_in/'\n",
    "args = ['-D']\n",
    "\n",
    "initial_seed = os.listdir(seed_dir)[0]"
   ]
  },
  {
   "cell_type": "code",
   "execution_count": 38,
   "metadata": {},
   "outputs": [],
   "source": [
    "neuzz = True"
   ]
  },
  {
   "cell_type": "code",
   "execution_count": 35,
   "metadata": {},
   "outputs": [],
   "source": [
    "rows_list = []\n",
    "for filename in os.listdir(seed_dir):\n",
    "    if filename != '.state': \n",
    "        dict1 = {}\n",
    "        dict1['filename'] = filename\n",
    "        dict1['m_timestamp'] = creation_date(seed_dir + filename)\n",
    "        rows_list.append(dict1)\n",
    "        \n",
    "df_files = pd.DataFrame(rows_list)"
   ]
  },
  {
   "cell_type": "code",
   "execution_count": 40,
   "metadata": {},
   "outputs": [],
   "source": [
    "df_files['prefile'] = df_files['filename'].apply(lambda x: x in os.listdir(in_dir))"
   ]
  },
  {
   "cell_type": "code",
   "execution_count": 36,
   "metadata": {},
   "outputs": [
    {
     "name": "stderr",
     "output_type": "stream",
     "text": [
      "100%|██████████| 1/1 [00:00<00:00, 81.80it/s]\n"
     ]
    }
   ],
   "source": [
    "pre_coverage = []\n",
    "for row in tqdm(os.listdir(in_dir)):   \n",
    "    file = row[0]\n",
    "\n",
    "    full_filename = seed_dir + file\n",
    "    out = subprocess.check_output(['afl-showmap', '-q', '-e', '-o', '/dev/stdout'] + [exec_dir] + args + [full_filename])\n",
    "    for line in out.splitlines():\n",
    "        # PY 3.7 - added deencoding for compatibility\n",
    "        edge = line.decode('utf-8').split(':')[0]\n",
    "        pre_coverage.append(edge)"
   ]
  },
  {
   "cell_type": "code",
   "execution_count": 26,
   "metadata": {},
   "outputs": [],
   "source": [
    "df_files = df_files.sort_values(by=['m_timestamp'])\n"
   ]
  },
  {
   "cell_type": "code",
   "execution_count": 37,
   "metadata": {},
   "outputs": [],
   "source": [
    "df_files = df_files.sort_values(by=['m_timestamp'])\n",
    "#df_files['modification_date'] = df_files['modification_date'].dt.round('1s')\n",
    "#df_files['modification_date'] = df_files['modification_date'].apply(lambda x: x.time())\n",
    "creation_date = df_files.iloc[1]['m_timestamp']\n",
    "df_files['running_s'] = df_files['m_timestamp'] - creation_date\n",
    "df_files['running_s'] = df_files['running_s'].apply(lambda x: x if x>0 else 0.0) \n",
    "df_files['pretty_mtime'] = df_files['m_timestamp'].apply(lambda x: datetime.datetime.fromtimestamp(x))\n",
    "\n",
    "df_files = df_files.set_index('filename')"
   ]
  },
  {
   "cell_type": "markdown",
   "metadata": {},
   "source": [
    "df_files.reset_index().columns"
   ]
  },
  {
   "cell_type": "code",
   "execution_count": 38,
   "metadata": {},
   "outputs": [
    {
     "name": "stderr",
     "output_type": "stream",
     "text": [
      "1926it [00:25, 74.51it/s]\n"
     ]
    }
   ],
   "source": [
    "tmp_list = []\n",
    "raw_bitmap = {}\n",
    "df_files['total_coverage'] = -1\n",
    "df_files['current_coverage'] = -1\n",
    "df_files['total_coverage_own_finds'] = -1\n",
    "\n",
    "with open('./test.csv', 'a') as file_:\n",
    "    writer = csv.DictWriter(file_, df_files.reset_index().columns, delimiter=';')\n",
    "\n",
    "    if file_.tell() == 0:\n",
    "        writer.writeheader()\n",
    "    \n",
    "    for row in tqdm(df_files.itertuples(index=True)):    \n",
    "        file = row[0]\n",
    "\n",
    "        full_filename = seed_dir + file\n",
    "        out = subprocess.check_output(['afl-showmap', '-q', '-e', '-o', '/dev/stdout'] + [exec_dir] + args + [full_filename])\n",
    "\n",
    "        tmp_cnt = []\n",
    "        for line in out.splitlines():\n",
    "            # PY 3.7 - added deencoding for compatibility\n",
    "            edge = line.decode('utf-8').split(':')[0]\n",
    "            tmp_cnt.append(edge)\n",
    "            tmp_list.append(edge)\n",
    " \n",
    "        row_dict = {\n",
    "            'filename': file,\n",
    "            'm_timestamp': row[1],\n",
    "            'running_s': row[2],\n",
    "            'pretty_mtime': row[3],\n",
    "            'current_coverage': len(np.unique(tmp_cnt)),\n",
    "            'total_coverage': len(np.unique(tmp_list)),\n",
    "            'total_coverage_own_finds': len(np.unique(list(set(tmp_list) - set(pre_coverage))))\n",
    "        }\n",
    "        writer.writerow(row_dict)\n",
    "        #df_files.at[file, ['current_coverage']] = len(np.unique(tmp_cnt))\n",
    "        #df_files.at[file, ['total_coverage']] = len(np.unique(tmp_list))\n",
    "\n",
    "        tmp_list = list(np.unique(tmp_list))\n",
    "\n",
    "    #df_files.to_csv('./mutool-neuzz_coverage.csv', index=True)"
   ]
  },
  {
   "cell_type": "code",
   "execution_count": 39,
   "metadata": {},
   "outputs": [],
   "source": [
    "df = pd.read_csv('./test.csv',sep=';')"
   ]
  },
  {
   "cell_type": "code",
   "execution_count": 41,
   "metadata": {},
   "outputs": [
    {
     "data": {
      "text/plain": [
       "2477"
      ]
     },
     "execution_count": 41,
     "metadata": {},
     "output_type": "execute_result"
    }
   ],
   "source": [
    "df.current_coverage.max()"
   ]
  },
  {
   "cell_type": "code",
   "execution_count": 52,
   "metadata": {},
   "outputs": [
    {
     "data": {
      "text/html": [
       "<div>\n",
       "<style scoped>\n",
       "    .dataframe tbody tr th:only-of-type {\n",
       "        vertical-align: middle;\n",
       "    }\n",
       "\n",
       "    .dataframe tbody tr th {\n",
       "        vertical-align: top;\n",
       "    }\n",
       "\n",
       "    .dataframe thead th {\n",
       "        text-align: right;\n",
       "    }\n",
       "</style>\n",
       "<table border=\"1\" class=\"dataframe\">\n",
       "  <thead>\n",
       "    <tr style=\"text-align: right;\">\n",
       "      <th></th>\n",
       "      <th>filename</th>\n",
       "      <th>m_timestamp</th>\n",
       "      <th>running_s</th>\n",
       "      <th>pretty_mtime</th>\n",
       "      <th>total_coverage</th>\n",
       "      <th>current_coverage</th>\n",
       "      <th>total_coverage_own_finds</th>\n",
       "    </tr>\n",
       "  </thead>\n",
       "  <tbody>\n",
       "    <tr>\n",
       "      <td>1781</td>\n",
       "      <td>id:001781,src:000148,op:havoc,rep:16</td>\n",
       "      <td>1.570683e+09</td>\n",
       "      <td>40981.0</td>\n",
       "      <td>2019-10-10 06:55:59</td>\n",
       "      <td>4659</td>\n",
       "      <td>2477</td>\n",
       "      <td>4619</td>\n",
       "    </tr>\n",
       "  </tbody>\n",
       "</table>\n",
       "</div>"
      ],
      "text/plain": [
       "                                  filename   m_timestamp  running_s  \\\n",
       "1781  id:001781,src:000148,op:havoc,rep:16  1.570683e+09    40981.0   \n",
       "\n",
       "             pretty_mtime  total_coverage  current_coverage  \\\n",
       "1781  2019-10-10 06:55:59            4659              2477   \n",
       "\n",
       "      total_coverage_own_finds  \n",
       "1781                      4619  "
      ]
     },
     "execution_count": 52,
     "metadata": {},
     "output_type": "execute_result"
    }
   ],
   "source": [
    "df.loc[df.current_coverage== df.current_coverage.max()]"
   ]
  },
  {
   "cell_type": "code",
   "execution_count": 25,
   "metadata": {},
   "outputs": [
    {
     "name": "stdout",
     "output_type": "stream",
     "text": [
      "usage: seed2coverage.py [-h] seedfolder calltoprogram\n",
      "seed2coverage.py: error: the following arguments are required: calltoprogram, savelocation\n"
     ]
    }
   ],
   "source": [
    "! python seed2coverage.py --seedfolder='/home/david/Documents/gits/neuzz/programs/mupdf/neuzz_in/' -calltoprogram='/home/david/Documents/gits/neuzz/programs/mupdf/mutool show' --savelocation='./mutool_neuzz_test.csv'"
   ]
  },
  {
   "cell_type": "markdown",
   "metadata": {},
   "source": [
    "## Graphs"
   ]
  },
  {
   "cell_type": "code",
   "execution_count": 3,
   "metadata": {},
   "outputs": [],
   "source": [
    "df_afl = pd.read_csv('./mutool-afl_coverage.csv')\n",
    "df_neuzz = pd.read_csv('./mutool-neuzz_coverage.csv')"
   ]
  },
  {
   "cell_type": "code",
   "execution_count": 17,
   "metadata": {},
   "outputs": [],
   "source": [
    "df_afl = df_afl[['running_s', 'total_coverage']]\n",
    "df_afl.columns = ['running_s', 'afl_coverage']\n",
    "df_neuzz = df_neuzz[['running_s', 'total_coverage']]\n",
    "df_neuzz.columns = ['running_s', 'neuzz_coverage']\n",
    "df_fuzz = pd.merge(df_afl, df_neuzz, on='running_s', how='outer')"
   ]
  },
  {
   "cell_type": "code",
   "execution_count": null,
   "metadata": {},
   "outputs": [],
   "source": [
    "df_fuzz = df_fuzz.set_index('running_s')\n"
   ]
  },
  {
   "cell_type": "code",
   "execution_count": 55,
   "metadata": {},
   "outputs": [
    {
     "data": {
      "image/png": "[encoded data removed]",
      "text/plain": [
       "<Figure size 1080x648 with 1 Axes>"
      ]
     },
     "metadata": {},
     "output_type": "display_data"
    }
   ],
   "source": [
    "fig, ax = plt.subplots(figsize=(15,9))\n",
    "fig = df_fuzz.plot(ax=ax)\n",
    "#plt.margins(x=0)\n",
    "ax.autoscale(tight=False) \n",
    "#fig.show()\n",
    "#plt.show()\n",
    "plt.savefig('./mupdf.png')\n",
    "#df_fuzz.plot(figsize=200)"
   ]
  },
  {
   "cell_type": "code",
   "execution_count": 20,
   "metadata": {},
   "outputs": [
    {
     "data": {
      "image/png": "[encoded data removed]",
      "text/plain": [
       "<Figure size 432x288 with 1 Axes>"
      ]
     },
     "metadata": {},
     "output_type": "display_data"
    }
   ],
   "source": [
    "fig, ax = plt.subplots()\n",
    "\n",
    "sb.set_style(\"darkgrid\")\n",
    "fig = sb.lineplot(x=\"running_s\", dashes=False, y=\"afl_coverage\",  markers=[\"o\", \"o\"], data=df_fuzz)\n",
    "\n",
    "legend = ax.legend()\n",
    "legend.texts[0].set_text(\"Fuzzer\")\n",
    "\n",
    "plt.show()"
   ]
  },
  {
   "cell_type": "code",
   "execution_count": 21,
   "metadata": {},
   "outputs": [],
   "source": []
  },
  {
   "cell_type": "code",
   "execution_count": null,
   "metadata": {},
   "outputs": [],
   "source": [
    "df = df.pivot(index='x', columns='color', values='y')\n",
    "\n",
    "df.plot()"
   ]
  }
 ],
 "metadata": {
  "kernelspec": {
   "display_name": "Python 3",
   "language": "python",
   "name": "python3"
  },
  "language_info": {
   "codemirror_mode": {
    "name": "ipython",
    "version": 3
   },
   "file_extension": ".py",
   "mimetype": "text/x-python",
   "name": "python",
   "nbconvert_exporter": "python",
   "pygments_lexer": "ipython3",
   "version": "3.7.3"
  }
 },
 "nbformat": 4,
 "nbformat_minor": 4
}
