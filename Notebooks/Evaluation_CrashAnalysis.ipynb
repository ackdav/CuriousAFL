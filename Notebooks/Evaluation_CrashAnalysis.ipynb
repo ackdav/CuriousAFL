{
 "cells": [
  {
   "cell_type": "markdown",
   "metadata": {},
   "source": [
    "# Crash Analysis  \n",
    "Due to time pressure crash analysis was done partly automated, partly by hand. It was mainly done using afl-cmin and crashwalk."
   ]
  },
  {
   "cell_type": "code",
   "execution_count": 1,
   "metadata": {},
   "outputs": [],
   "source": [
    "import numpy as np\n",
    "import pandas as pd\n",
    "import os\n",
    "import seaborn as sns\n",
    "import matplotlib.pyplot as plt\n",
    "from scipy.stats import mannwhitneyu\n",
    "import subprocess\n",
    "import requests\n",
    "from tempfile import TemporaryDirectory"
   ]
  },
  {
   "cell_type": "markdown",
   "metadata": {},
   "source": [
    "## AFL-CMIN Validation"
   ]
  },
  {
   "cell_type": "code",
   "execution_count": 33,
   "metadata": {},
   "outputs": [],
   "source": [
    "program_arguments = {\n",
    "    'objdump'   : ['/home/deif/gits/fuzztestbench/objdumppre/objdump', '-D','@@']\n",
    ",    'nm'       : ['/home/deif/gits/fuzztestbench/nmpre/nm-new', '-C','@@']\n",
    ",    'ffmpeg'   : ['/home/deif/gits/fuzztestbench/ffmpegpre/ffmpeg','-i','@@']\n",
    ",    'gif2png'  : ['/home/deif/gits/fuzztestbench/gif2pngpre/gif2png','@@']\n",
    ",    'mupdf'    : ['/home/deif/gits/fuzztestbench/mupdfpre/mutool','show','@@']\n",
    ",    'size'     : ['/home/deif/gits/fuzztestbench/sizepre/size','@@']\n",
    ",    'tcpdump'  : ['/home/deif/gits/fuzztestbench/tcpdumppre/tcpdump', '-nr','@@']\n",
    ",    'readelf'  : ['/home/deif/gits/fuzztestbench/readelfpre/readelf','-a','@@']\n",
    "}\n",
    "\n",
    "rodeo_arguments = {\n",
    "    'bzip2': ['/home/deif/gits/fuzztestbench/bzip2pre/bzip2', '-c','@@'],\n",
    "    'grep': ['/home/deif/gits/fuzztestbench/greppre/grep', '-f','@@'],\n",
    "    'memdjpeg': ['/home/deif/gits/fuzztestbench/memdjpegpre/memdjpeg','@@'],\n",
    "    'newgrep': ['/home/deif/gits/fuzztestbench/newgreppre/newgrep','-f','@@'],\n",
    "}\n",
    "\n",
    "base_folder = '/home/deif/gits/fuzztestbench/'\n",
    "base_folder_neuzz = '/home/deif/gits/neuzz/programs/'\n"
   ]
  },
  {
   "cell_type": "code",
   "execution_count": 63,
   "metadata": {},
   "outputs": [],
   "source": [
    "program = 'nm'\n",
    "program_call = program_arguments[program]\n",
    "program_call[0] = base_folder + program + 'pre/' + program_call[0]\n",
    "fuzzer = 'curiousmutation'"
   ]
  },
  {
   "cell_type": "code",
   "execution_count": 36,
   "metadata": {
    "collapsed": true,
    "jupyter": {
     "outputs_hidden": true
    }
   },
   "outputs": [
    {
     "name": "stdout",
     "output_type": "stream",
     "text": [
      "['afl-cmin', '-C', '-i', '/home/deif/gits/fuzztestbench/greppre/greppreafl1/afl_out/crashes/', '-o', './tmpv2fqbflk/', '/home/deif/gits/fuzztestbench/greppre/grep', '-f', '@@']\n",
      "['afl-cmin', '-C', '-i', '/home/deif/gits/fuzztestbench/greppre/greppreafl2/afl_out/crashes/', '-o', './tmp0wos7j0p/', '/home/deif/gits/fuzztestbench/greppre/grep', '-f', '@@']\n",
      "['afl-cmin', '-C', '-i', '/home/deif/gits/fuzztestbench/greppre/grepprecuriousmutation2/afl_out/crashes/', '-o', './tmp76xwutk7/', '/home/deif/gits/fuzztestbench/greppre/grep', '-f', '@@']\n",
      "['afl-cmin', '-C', '-i', '/home/deif/gits/fuzztestbench/memdjpegpre/memdjpegpreafl1/afl_out/crashes/', '-o', './tmp4ub_ygos/', '/home/deif/gits/fuzztestbench/memdjpegpre/memdjpeg', '@@']\n",
      "['afl-cmin', '-C', '-i', '/home/deif/gits/fuzztestbench/memdjpegpre/memdjpegpreafl2/afl_out/crashes/', '-o', './tmpsw3349hr/', '/home/deif/gits/fuzztestbench/memdjpegpre/memdjpeg', '@@']\n",
      "['afl-cmin', '-C', '-i', '/home/deif/gits/fuzztestbench/memdjpegpre/memdjpegpreaflfast1/afl_out/crashes/', '-o', './tmpu43n6uop/', '/home/deif/gits/fuzztestbench/memdjpegpre/memdjpeg', '@@']\n",
      "['afl-cmin', '-C', '-i', '/home/deif/gits/fuzztestbench/memdjpegpre/memdjpegpreaflfast2/afl_out/crashes/', '-o', './tmp2ayvsnfk/', '/home/deif/gits/fuzztestbench/memdjpegpre/memdjpeg', '@@']\n",
      "['afl-cmin', '-C', '-i', '/home/deif/gits/fuzztestbench/memdjpegpre/memdjpegprecuriousmutation1/afl_out/crashes/', '-o', './tmpk7e03e3f/', '/home/deif/gits/fuzztestbench/memdjpegpre/memdjpeg', '@@']\n",
      "['afl-cmin', '-C', '-i', '/home/deif/gits/fuzztestbench/memdjpegpre/memdjpegprecuriousmutation2/afl_out/crashes/', '-o', './tmpiq0gay6o/', '/home/deif/gits/fuzztestbench/memdjpegpre/memdjpeg', '@@']\n",
      "['afl-cmin', '-C', '-i', '/home/deif/gits/fuzztestbench/newgreppre/newgreppreafl1/afl_out/crashes/', '-o', './tmpml4z2eh6/', '/home/deif/gits/fuzztestbench/newgreppre/newgrep', '-f', '@@']\n",
      "['afl-cmin', '-C', '-i', '/home/deif/gits/fuzztestbench/newgreppre/newgreppreafl2/afl_out/crashes/', '-o', './tmpq79rzjfn/', '/home/deif/gits/fuzztestbench/newgreppre/newgrep', '-f', '@@']\n",
      "['afl-cmin', '-C', '-i', '/home/deif/gits/fuzztestbench/newgreppre/newgreppreaflfast1/afl_out/crashes/', '-o', './tmp9vfg7hit/', '/home/deif/gits/fuzztestbench/newgreppre/newgrep', '-f', '@@']\n",
      "['afl-cmin', '-C', '-i', '/home/deif/gits/fuzztestbench/newgreppre/newgreppreaflfast2/afl_out/crashes/', '-o', './tmpwglxph4h/', '/home/deif/gits/fuzztestbench/newgreppre/newgrep', '-f', '@@']\n",
      "['afl-cmin', '-C', '-i', '/home/deif/gits/fuzztestbench/newgreppre/newgrepprecuriousmutation1/afl_out/crashes/', '-o', './tmpn94fbu42/', '/home/deif/gits/fuzztestbench/newgreppre/newgrep', '-f', '@@']\n",
      "['afl-cmin', '-C', '-i', '/home/deif/gits/fuzztestbench/newgreppre/newgrepprecuriousmutation2/afl_out/crashes/', '-o', './tmpqhjoszad/', '/home/deif/gits/fuzztestbench/newgreppre/newgrep', '-f', '@@']\n",
      "['afl-cmin', '-C', '-i', '/home/deif/gits/neuzz/programs/newgrep1/crashes/', '-o', './tmpwgig2yw1/', '/home/deif/gits/fuzztestbench/newgreppre/newgrep', '-f', '@@']\n",
      "['afl-cmin', '-C', '-i', '/home/deif/gits/neuzz/programs/newgrep2/crashes/', '-o', './tmpzgsxuxxu/', '/home/deif/gits/fuzztestbench/newgreppre/newgrep', '-f', '@@']\n"
     ]
    }
   ],
   "source": [
    "crashes = {\n",
    "    'program': [],\n",
    "    'fuzzer': [],\n",
    "    'crashes': []\n",
    "}\n",
    "fuzzers = ['afl', 'aflfast', 'curiousmutation', 'neuzz']\n",
    "rodeo = True\n",
    "if rodeo:\n",
    "    prog_dict = rodeo_arguments\n",
    "    range_max = 3\n",
    "    mode = 'artificial'\n",
    "else:\n",
    "    prog_dict = program_arguments\n",
    "    range_max = 6\n",
    "    mode = 'real'\n",
    "\n",
    "for program in prog_dict:\n",
    "    \n",
    "    program_call = prog_dict[program]\n",
    "\n",
    "    for fuzzer in fuzzers:\n",
    "        for i in range(1, range_max):\n",
    "            with TemporaryDirectory(dir='./') as temp_dir: #create temp outputdir for every run\n",
    "                if fuzzer != 'neuzz':\n",
    "                    indir = os.path.join(base_folder, program + 'pre/' + program + 'pre' + fuzzer + str(i) + '/afl_out/crashes/')\n",
    "                else:\n",
    "                    indir = os.path.join(base_folder_neuzz, program + str(i) + '/crashes/')\n",
    "\n",
    "                #os.path.isdir(indir) and\n",
    "                if  len(os.listdir(indir))>0:\n",
    "                    print(['afl-cmin', '-C', '-i', indir] + ['-o', temp_dir + '/'] + program_call)\n",
    "                    out = subprocess.run(['afl-cmin', '-C', '-i', indir] + ['-o', temp_dir] + program_call)\n",
    "                    #print(os.listdir(temp_dir))\n",
    "                    crashes['program'].append(program)\n",
    "                    crashes['fuzzer'].append(fuzzer)\n",
    "                    crashes['crashes'].append(len(os.listdir(temp_dir)))\n",
    "                else:\n",
    "                    crashes['program'].append(program)\n",
    "                    crashes['fuzzer'].append(fuzzer)\n",
    "                    crashes['crashes'].append(0)\n",
    "\n",
    "df_crashes = pd.DataFrame(crashes)\n",
    "df_crashes.to_csv('./crashes_'+mode+'_programs.csv')"
   ]
  },
  {
   "cell_type": "markdown",
   "metadata": {},
   "source": [
    "### real programs"
   ]
  },
  {
   "cell_type": "code",
   "execution_count": 39,
   "metadata": {},
   "outputs": [
    {
     "name": "stdout",
     "output_type": "stream",
     "text": [
      "memdjpeg\tafl: 5.5\taflfast: 13.0\tcuriousafl: 15.5 \tneuzz: 0.0\n",
      "newgrep\tafl: 67.5\taflfast: 67.0\tcuriousafl: 0.0 \tneuzz: 14.5\n"
     ]
    }
   ],
   "source": [
    "df_crashes = pd.DataFrame(crashes)\n",
    "for program in df_crashes['program'].unique():\n",
    "    afl_mean = df_crashes.loc[(df_crashes.program==program) & (df_crashes.fuzzer=='afl')]['crashes'].mean()\n",
    "    aflfast_mean = df_crashes.loc[(df_crashes.program==program) & (df_crashes.fuzzer=='aflfast')]['crashes'].mean()\n",
    "    curiousafl_mean = df_crashes.loc[(df_crashes.program==program) & (df_crashes.fuzzer=='curiousmutation')]['crashes'].mean()\n",
    "    neuzz_mean = df_crashes.loc[(df_crashes.program==program) & (df_crashes.fuzzer=='neuzz')]['crashes'].mean()\n",
    "\n",
    "    if not (afl_mean == 0.0 and aflfast_mean == 0.0 and curiousafl_mean == 0.0 and neuzz_mean == 0.0):\n",
    "        print(program + '\\t' + 'afl: ' + str(afl_mean)+ '\\t' + 'aflfast: ' + str(aflfast_mean)+ '\\t' + 'curiousafl: ' + str(curiousafl_mean)+' \\t' + 'neuzz: ' + str(neuzz_mean) )"
   ]
  },
  {
   "cell_type": "markdown",
   "metadata": {},
   "source": [
    "## Real programs validation"
   ]
  },
  {
   "cell_type": "code",
   "execution_count": 47,
   "metadata": {},
   "outputs": [],
   "source": [
    "program_arguments = {\n",
    "    'objdump'   : ['objdump', '-D']\n",
    ",    'nm'       : ['nm', '-C']\n",
    ",    'ffmpeg'   : ['ffmpeg','-i']\n",
    ",    'gif2png'  : ['gif2png', '']\n",
    ",    'mupdf'    : ['mutool','show']\n",
    ",    'size'     : ['size']\n",
    ",    'tcpdump'  : ['tcpdump', '-nr'] \n",
    ",    'readelf'  : ['readelf','-a']\n",
    "}"
   ]
  },
  {
   "cell_type": "code",
   "execution_count": 52,
   "metadata": {
    "collapsed": true,
    "jupyter": {
     "outputs_hidden": true
    }
   },
   "outputs": [
    {
     "ename": "FileNotFoundError",
     "evalue": "[Errno 2] No such file or directory: '~/gits/fuzztestbench/ffmpegpre/ffmpeg': '~/gits/fuzztestbench/ffmpegpre/ffmpeg'",
     "output_type": "error",
     "traceback": [
      "\u001b[0;31m---------------------------------------------------------------------------\u001b[0m",
      "\u001b[0;31mFileNotFoundError\u001b[0m                         Traceback (most recent call last)",
      "\u001b[0;32m<ipython-input-52-7dc2fd54c1d8>\u001b[0m in \u001b[0;36m<module>\u001b[0;34m\u001b[0m\n\u001b[1;32m      5\u001b[0m     \u001b[0mcrash_path\u001b[0m \u001b[0;34m=\u001b[0m \u001b[0;34m'/home/deif/gits/fuzztestbench/'\u001b[0m \u001b[0;34m+\u001b[0m \u001b[0mprogram\u001b[0m \u001b[0;34m+\u001b[0m \u001b[0;34m'pre/'\u001b[0m \u001b[0;34m+\u001b[0m \u001b[0mprogram\u001b[0m \u001b[0;34m+\u001b[0m \u001b[0;34m'precuriousrandom10'\u001b[0m \u001b[0;34m+\u001b[0m \u001b[0mstr\u001b[0m\u001b[0;34m(\u001b[0m\u001b[0mi\u001b[0m\u001b[0;34m)\u001b[0m \u001b[0;34m+\u001b[0m \u001b[0;34m'/'\u001b[0m\u001b[0;34m\u001b[0m\u001b[0;34m\u001b[0m\u001b[0m\n\u001b[1;32m      6\u001b[0m     \u001b[0;32mfor\u001b[0m \u001b[0mfilename\u001b[0m \u001b[0;32min\u001b[0m \u001b[0msorted\u001b[0m\u001b[0;34m(\u001b[0m\u001b[0mos\u001b[0m\u001b[0;34m.\u001b[0m\u001b[0mlistdir\u001b[0m\u001b[0;34m(\u001b[0m\u001b[0mcrash_path\u001b[0m \u001b[0;34m+\u001b[0m \u001b[0;34m'afl_out/crashes/'\u001b[0m\u001b[0;34m)\u001b[0m\u001b[0;34m)\u001b[0m\u001b[0;34m:\u001b[0m\u001b[0;34m\u001b[0m\u001b[0;34m\u001b[0m\u001b[0m\n\u001b[0;32m----> 7\u001b[0;31m         \u001b[0mout\u001b[0m \u001b[0;34m=\u001b[0m \u001b[0msubprocess\u001b[0m\u001b[0;34m.\u001b[0m\u001b[0mrun\u001b[0m\u001b[0;34m(\u001b[0m\u001b[0mprogram_argument\u001b[0m \u001b[0;34m+\u001b[0m \u001b[0;34m[\u001b[0m\u001b[0mos\u001b[0m\u001b[0;34m.\u001b[0m\u001b[0mpath\u001b[0m\u001b[0;34m.\u001b[0m\u001b[0mjoin\u001b[0m\u001b[0;34m(\u001b[0m\u001b[0mcrash_path\u001b[0m \u001b[0;34m+\u001b[0m \u001b[0;34m'afl_out/crashes/'\u001b[0m\u001b[0;34m,\u001b[0m \u001b[0mfilename\u001b[0m\u001b[0;34m)\u001b[0m\u001b[0;34m]\u001b[0m\u001b[0;34m)\u001b[0m\u001b[0;34m\u001b[0m\u001b[0;34m\u001b[0m\u001b[0m\n\u001b[0m\u001b[1;32m      8\u001b[0m         \u001b[0;32mif\u001b[0m \u001b[0mout\u001b[0m\u001b[0;34m.\u001b[0m\u001b[0mreturncode\u001b[0m \u001b[0;34m!=\u001b[0m \u001b[0;36m0\u001b[0m\u001b[0;34m:\u001b[0m\u001b[0;34m\u001b[0m\u001b[0;34m\u001b[0m\u001b[0m\n\u001b[1;32m      9\u001b[0m             \u001b[0mprint\u001b[0m\u001b[0;34m(\u001b[0m\u001b[0mout\u001b[0m\u001b[0;34m)\u001b[0m\u001b[0;34m\u001b[0m\u001b[0;34m\u001b[0m\u001b[0m\n",
      "\u001b[0;32m/usr/lib/python3.7/subprocess.py\u001b[0m in \u001b[0;36mrun\u001b[0;34m(input, capture_output, timeout, check, *popenargs, **kwargs)\u001b[0m\n\u001b[1;32m    470\u001b[0m         \u001b[0mkwargs\u001b[0m\u001b[0;34m[\u001b[0m\u001b[0;34m'stderr'\u001b[0m\u001b[0;34m]\u001b[0m \u001b[0;34m=\u001b[0m \u001b[0mPIPE\u001b[0m\u001b[0;34m\u001b[0m\u001b[0;34m\u001b[0m\u001b[0m\n\u001b[1;32m    471\u001b[0m \u001b[0;34m\u001b[0m\u001b[0m\n\u001b[0;32m--> 472\u001b[0;31m     \u001b[0;32mwith\u001b[0m \u001b[0mPopen\u001b[0m\u001b[0;34m(\u001b[0m\u001b[0;34m*\u001b[0m\u001b[0mpopenargs\u001b[0m\u001b[0;34m,\u001b[0m \u001b[0;34m**\u001b[0m\u001b[0mkwargs\u001b[0m\u001b[0;34m)\u001b[0m \u001b[0;32mas\u001b[0m \u001b[0mprocess\u001b[0m\u001b[0;34m:\u001b[0m\u001b[0;34m\u001b[0m\u001b[0;34m\u001b[0m\u001b[0m\n\u001b[0m\u001b[1;32m    473\u001b[0m         \u001b[0;32mtry\u001b[0m\u001b[0;34m:\u001b[0m\u001b[0;34m\u001b[0m\u001b[0;34m\u001b[0m\u001b[0m\n\u001b[1;32m    474\u001b[0m             \u001b[0mstdout\u001b[0m\u001b[0;34m,\u001b[0m \u001b[0mstderr\u001b[0m \u001b[0;34m=\u001b[0m \u001b[0mprocess\u001b[0m\u001b[0;34m.\u001b[0m\u001b[0mcommunicate\u001b[0m\u001b[0;34m(\u001b[0m\u001b[0minput\u001b[0m\u001b[0;34m,\u001b[0m \u001b[0mtimeout\u001b[0m\u001b[0;34m=\u001b[0m\u001b[0mtimeout\u001b[0m\u001b[0;34m)\u001b[0m\u001b[0;34m\u001b[0m\u001b[0;34m\u001b[0m\u001b[0m\n",
      "\u001b[0;32m/usr/lib/python3.7/subprocess.py\u001b[0m in \u001b[0;36m__init__\u001b[0;34m(self, args, bufsize, executable, stdin, stdout, stderr, preexec_fn, close_fds, shell, cwd, env, universal_newlines, startupinfo, creationflags, restore_signals, start_new_session, pass_fds, encoding, errors, text)\u001b[0m\n\u001b[1;32m    773\u001b[0m                                 \u001b[0mc2pread\u001b[0m\u001b[0;34m,\u001b[0m \u001b[0mc2pwrite\u001b[0m\u001b[0;34m,\u001b[0m\u001b[0;34m\u001b[0m\u001b[0;34m\u001b[0m\u001b[0m\n\u001b[1;32m    774\u001b[0m                                 \u001b[0merrread\u001b[0m\u001b[0;34m,\u001b[0m \u001b[0merrwrite\u001b[0m\u001b[0;34m,\u001b[0m\u001b[0;34m\u001b[0m\u001b[0;34m\u001b[0m\u001b[0m\n\u001b[0;32m--> 775\u001b[0;31m                                 restore_signals, start_new_session)\n\u001b[0m\u001b[1;32m    776\u001b[0m         \u001b[0;32mexcept\u001b[0m\u001b[0;34m:\u001b[0m\u001b[0;34m\u001b[0m\u001b[0;34m\u001b[0m\u001b[0m\n\u001b[1;32m    777\u001b[0m             \u001b[0;31m# Cleanup if the child failed starting.\u001b[0m\u001b[0;34m\u001b[0m\u001b[0;34m\u001b[0m\u001b[0;34m\u001b[0m\u001b[0m\n",
      "\u001b[0;32m/usr/lib/python3.7/subprocess.py\u001b[0m in \u001b[0;36m_execute_child\u001b[0;34m(self, args, executable, preexec_fn, close_fds, pass_fds, cwd, env, startupinfo, creationflags, shell, p2cread, p2cwrite, c2pread, c2pwrite, errread, errwrite, restore_signals, start_new_session)\u001b[0m\n\u001b[1;32m   1520\u001b[0m                         \u001b[0;32mif\u001b[0m \u001b[0merrno_num\u001b[0m \u001b[0;34m==\u001b[0m \u001b[0merrno\u001b[0m\u001b[0;34m.\u001b[0m\u001b[0mENOENT\u001b[0m\u001b[0;34m:\u001b[0m\u001b[0;34m\u001b[0m\u001b[0;34m\u001b[0m\u001b[0m\n\u001b[1;32m   1521\u001b[0m                             \u001b[0merr_msg\u001b[0m \u001b[0;34m+=\u001b[0m \u001b[0;34m': '\u001b[0m \u001b[0;34m+\u001b[0m \u001b[0mrepr\u001b[0m\u001b[0;34m(\u001b[0m\u001b[0merr_filename\u001b[0m\u001b[0;34m)\u001b[0m\u001b[0;34m\u001b[0m\u001b[0;34m\u001b[0m\u001b[0m\n\u001b[0;32m-> 1522\u001b[0;31m                     \u001b[0;32mraise\u001b[0m \u001b[0mchild_exception_type\u001b[0m\u001b[0;34m(\u001b[0m\u001b[0merrno_num\u001b[0m\u001b[0;34m,\u001b[0m \u001b[0merr_msg\u001b[0m\u001b[0;34m,\u001b[0m \u001b[0merr_filename\u001b[0m\u001b[0;34m)\u001b[0m\u001b[0;34m\u001b[0m\u001b[0;34m\u001b[0m\u001b[0m\n\u001b[0m\u001b[1;32m   1523\u001b[0m                 \u001b[0;32mraise\u001b[0m \u001b[0mchild_exception_type\u001b[0m\u001b[0;34m(\u001b[0m\u001b[0merr_msg\u001b[0m\u001b[0;34m)\u001b[0m\u001b[0;34m\u001b[0m\u001b[0;34m\u001b[0m\u001b[0m\n\u001b[1;32m   1524\u001b[0m \u001b[0;34m\u001b[0m\u001b[0m\n",
      "\u001b[0;31mFileNotFoundError\u001b[0m: [Errno 2] No such file or directory: '~/gits/fuzztestbench/ffmpegpre/ffmpeg': '~/gits/fuzztestbench/ffmpegpre/ffmpeg'"
     ]
    }
   ],
   "source": [
    "program = 'ffmpeg'\n",
    "program_argument = ['~/gits/fuzztestbench/ffmpegpre/ffmpeg', '-i']#program_arguments[program]\n",
    "\n",
    "for i in range(1,3):\n",
    "    crash_path = '/home/deif/gits/fuzztestbench/' + program + 'pre/' + program + 'precuriousrandom10' + str(i) + '/'\n",
    "    for filename in sorted(os.listdir(crash_path + 'afl_out/crashes/')):\n",
    "        out = subprocess.run(program_argument + [os.path.join(crash_path + 'afl_out/crashes/', filename)])\n",
    "        if out.returncode != 0:\n",
    "            print(out)"
   ]
  }
 ],
 "metadata": {
  "kernelspec": {
   "display_name": "Python 3",
   "language": "python",
   "name": "python3"
  },
  "language_info": {
   "codemirror_mode": {
    "name": "ipython",
    "version": 3
   },
   "file_extension": ".py",
   "mimetype": "text/x-python",
   "name": "python",
   "nbconvert_exporter": "python",
   "pygments_lexer": "ipython3",
   "version": "3.7.3"
  }
 },
 "nbformat": 4,
 "nbformat_minor": 4
}
