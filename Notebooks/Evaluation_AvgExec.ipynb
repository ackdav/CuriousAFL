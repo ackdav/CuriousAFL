{
 "cells": [
  {
   "cell_type": "markdown",
   "metadata": {},
   "source": [
    "# Evaluation Average Execution Speed  \n",
    "This Notebook calculates how fast (exec/sec) AFL runs certain applications"
   ]
  },
  {
   "cell_type": "code",
   "execution_count": 1,
   "metadata": {},
   "outputs": [],
   "source": [
    "import numpy as np\n",
    "import pandas as pd\n",
    "import os\n",
    "import seaborn as sns\n",
    "import matplotlib.pyplot as plt"
   ]
  },
  {
   "cell_type": "code",
   "execution_count": 3,
   "metadata": {},
   "outputs": [],
   "source": [
    "def convert_unixtime_deltaseconds(df, unix=True, timecolumn='# unix_time'):\n",
    "    if unix:\n",
    "        df['date'] = pd.to_datetime(df[timecolumn],unit='s')\n",
    "    else:\n",
    "        df['date'] = pd.to_datetime(df[timecolumn])\n",
    "        \n",
    "    df['date'] = df['date'].dt.round('1s')\n",
    "    return df\n",
    "\n",
    "#https://stackoverflow.com/questions/25234941/python-regularise-irregular-time-series-with-linear-interpolation\n",
    "def calc_avg_execs(df, event):\n",
    "    df = convert_unixtime_deltaseconds(df)\n",
    "\n",
    "    df = df[['date', ' execs_per_sec']]\n",
    "    start_date = df.iloc[0]['date']\n",
    "    end_date = start_date + pd.Timedelta(hours=24)\n",
    "\n",
    "    df = df.append({'date': df['date'].iloc[0] + pd.Timedelta(hours=24)}, ignore_index=True)\n",
    "    df[' execs_per_sec'] = df[' execs_per_sec'].ffill()\n",
    "\n",
    "    df = df.set_index('date').resample('s').interpolate().resample('1h').asfreq().bfill()\n",
    "    df = df.reset_index()\n",
    "    return df"
   ]
  },
  {
   "cell_type": "code",
   "execution_count": null,
   "metadata": {},
   "outputs": [],
   "source": [
    "resultspath = '../results/'\n",
    "results = {\n",
    "    'objdump': pd.DataFrame(),\n",
    "    'nm': pd.DataFrame(),\n",
    "    'ffmpeg': pd.DataFrame(),\n",
    "    'mupdf': pd.DataFrame(),\n",
    "    'harfbuzz': pd.DataFrame(),\n",
    "    'gif2png': pd.DataFrame(),\n",
    "    'size': pd.DataFrame(),\n",
    "    'readelf': pd.DataFrame()\n",
    "}\n",
    "empty_seed = False\n",
    "\n",
    "if empty_seed:\n",
    "    seed=''\n",
    "else:\n",
    "    seed='pre'\n",
    "    \n",
    "for exec_name in results:\n",
    " \n",
    "     for trial in range(1,6):\n",
    "         #afl\n",
    "         resultpath = os.path.join(resultspath + exec_name + seed, exec_name + seed + 'afl' + str(trial))\n",
    "         df = pd.read_csv(resultpath)\n",
    "         df = calc_avg_execs(df, 'AFL')\n",
    "         results[exec_name] = results[exec_name].append(df)"
   ]
  },
  {
   "cell_type": "code",
   "execution_count": 71,
   "metadata": {},
   "outputs": [
    {
     "name": "stdout",
     "output_type": "stream",
     "text": [
      "objdump\t997.0\n",
      "nm\t2148.1\n",
      "ffmpeg\t371.3\n",
      "mupdf\t889.5\n",
      "harfbuzz\t1965.4\n",
      "gif2png\t43.3\n",
      "size\t2278.1\n",
      "readelf\t2171.6\n"
     ]
    }
   ],
   "source": [
    "for key in results:\n",
    "    df = results[key]\n",
    "    print(key + \"\\t\" + str(round(df[' execs_per_sec'].mean(),1)))"
   ]
  }
 ],
 "metadata": {
  "kernelspec": {
   "display_name": "Python 3",
   "language": "python",
   "name": "python3"
  },
  "language_info": {
   "codemirror_mode": {
    "name": "ipython",
    "version": 3
   },
   "file_extension": ".py",
   "mimetype": "text/x-python",
   "name": "python",
   "nbconvert_exporter": "python",
   "pygments_lexer": "ipython3",
   "version": "3.7.3"
  }
 },
 "nbformat": 4,
 "nbformat_minor": 4
}
