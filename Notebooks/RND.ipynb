{
 "cells": [
  {
   "cell_type": "code",
   "execution_count": 1,
   "metadata": {},
   "outputs": [],
   "source": [
    "import sys\n",
    "sys.path.append('..')\n",
    "from CuriousAFL.rnd import RND\n",
    "import os\n",
    "import numpy as np\n",
    "import torch\n",
    "import seaborn as sb\n",
    "import random\n",
    "from tqdm import tqdm\n",
    "from collections import deque\n",
    "\n",
    "# epochs are controlled by AFL\n",
    "retrain_every_x_seeds = 5\n",
    "\n",
    "max_filesize = 2**12\n",
    "out_size = 2**6\n",
    "learning_rate = 1e-4\n",
    "\n",
    "rnd_model = None\n",
    "#random sample of files to retrain model\n",
    "\n",
    "input_dim = max_filesize\n",
    "output_dim = 2 #fuzz or don't - 2 possible actions\n",
    "\n",
    "batch_size = 128 # TODO: WHY?\n",
    "replay_buffer = deque(maxlen=64) \n"
   ]
  },
  {
   "cell_type": "code",
   "execution_count": 10,
   "metadata": {},
   "outputs": [
    {
     "data": {
      "text/plain": [
       "131072"
      ]
     },
     "execution_count": 10,
     "metadata": {},
     "output_type": "execute_result"
    }
   ],
   "source": [
    "8*max_filesize"
   ]
  },
  {
   "cell_type": "code",
   "execution_count": 2,
   "metadata": {},
   "outputs": [],
   "source": [
    "seed_dir = '/home/david/Documents/gits/neuzz/programs/objdump/neuzz_in/'\n",
    "seeds = os.listdir(seed_dir)"
   ]
  },
  {
   "cell_type": "code",
   "execution_count": 3,
   "metadata": {},
   "outputs": [],
   "source": [
    "\n",
    "def vectorize(input_file):\n",
    "\n",
    "    shape = np.zeros(shape=(max_filesize, 8))\n",
    "\n",
    "    with open(input_file, \"rb\") as f:\n",
    "        byte = f.read(1)\n",
    "        byte_pos = 0\n",
    "        print(byte)\n",
    "        while byte:\n",
    "            bits = bin(int.from_bytes(byte, byteorder=\"big\"))[2:].zfill(8)\n",
    "           \n",
    "            for n, bit in enumerate(bits):\n",
    "                if bit == '1':\n",
    "                    shape[byte_pos, n] = 1.\n",
    "            break\n",
    "            byte = f.read(1)\n",
    "            byte_pos += 1\n",
    "\n",
    "    return shape\n"
   ]
  },
  {
   "cell_type": "code",
   "execution_count": 5,
   "metadata": {},
   "outputs": [
    {
     "ename": "FileNotFoundError",
     "evalue": "[Errno 2] No such file or directory: './initial_seeds/id:000073,src:000000,op:flip1,pos:357,+cov'",
     "output_type": "error",
     "traceback": [
      "\u001b[0;31m---------------------------------------------------------------------------\u001b[0m",
      "\u001b[0;31mFileNotFoundError\u001b[0m                         Traceback (most recent call last)",
      "\u001b[0;32m<ipython-input-5-7950df03f816>\u001b[0m in \u001b[0;36m<module>\u001b[0;34m\u001b[0m\n\u001b[1;32m      1\u001b[0m \u001b[0;32mfrom\u001b[0m \u001b[0mmmap\u001b[0m \u001b[0;32mimport\u001b[0m \u001b[0mACCESS_READ\u001b[0m\u001b[0;34m,\u001b[0m \u001b[0mmmap\u001b[0m\u001b[0;34m\u001b[0m\u001b[0;34m\u001b[0m\u001b[0m\n\u001b[1;32m      2\u001b[0m \u001b[0;34m\u001b[0m\u001b[0m\n\u001b[0;32m----> 3\u001b[0;31m \u001b[0;32mwith\u001b[0m \u001b[0mopen\u001b[0m\u001b[0;34m(\u001b[0m\u001b[0;34m'./initial_seeds/'\u001b[0m \u001b[0;34m+\u001b[0m \u001b[0mseeds\u001b[0m\u001b[0;34m[\u001b[0m\u001b[0;36m0\u001b[0m\u001b[0;34m]\u001b[0m\u001b[0;34m,\u001b[0m \u001b[0;34m'rb'\u001b[0m\u001b[0;34m,\u001b[0m \u001b[0;36m0\u001b[0m\u001b[0;34m)\u001b[0m \u001b[0;32mas\u001b[0m \u001b[0mf\u001b[0m\u001b[0;34m,\u001b[0m \u001b[0mmmap\u001b[0m\u001b[0;34m(\u001b[0m\u001b[0mf\u001b[0m\u001b[0;34m.\u001b[0m\u001b[0mfileno\u001b[0m\u001b[0;34m(\u001b[0m\u001b[0;34m)\u001b[0m\u001b[0;34m,\u001b[0m \u001b[0;36m0\u001b[0m\u001b[0;34m,\u001b[0m \u001b[0maccess\u001b[0m\u001b[0;34m=\u001b[0m\u001b[0mACCESS_READ\u001b[0m\u001b[0;34m)\u001b[0m \u001b[0;32mas\u001b[0m \u001b[0ms\u001b[0m\u001b[0;34m:\u001b[0m\u001b[0;34m\u001b[0m\u001b[0;34m\u001b[0m\u001b[0m\n\u001b[0m\u001b[1;32m      4\u001b[0m     \u001b[0marr\u001b[0m \u001b[0;34m=\u001b[0m \u001b[0ms\u001b[0m\u001b[0;34m\u001b[0m\u001b[0;34m\u001b[0m\u001b[0m\n",
      "\u001b[0;31mFileNotFoundError\u001b[0m: [Errno 2] No such file or directory: './initial_seeds/id:000073,src:000000,op:flip1,pos:357,+cov'"
     ]
    }
   ],
   "source": [
    "from mmap import ACCESS_READ, mmap\n",
    "\n",
    "with open('./initial_seeds/' + seeds[0], 'rb', 0) as f, mmap(f.fileno(), 0, access=ACCESS_READ) as s:\n",
    "    arr = s"
   ]
  },
  {
   "cell_type": "code",
   "execution_count": 4,
   "metadata": {},
   "outputs": [],
   "source": [
    "rnd_model = RND(in_dim=input_dim, out_dim=64, n_hid=int(input_dim/8))"
   ]
  },
  {
   "cell_type": "code",
   "execution_count": 9,
   "metadata": {},
   "outputs": [
    {
     "data": {
      "text/plain": [
       "58432"
      ]
     },
     "execution_count": 9,
     "metadata": {},
     "output_type": "execute_result"
    }
   ],
   "source": [
    "byte_array = np.fromfile(seed_dir + seeds[0], 'u1')\n",
    "bit_array = np.unpackbits(byte_array)\n",
    "len(bit_array)"
   ]
  },
  {
   "cell_type": "code",
   "execution_count": 5,
   "metadata": {},
   "outputs": [
    {
     "name": "stderr",
     "output_type": "stream",
     "text": [
      "100%|██████████| 1436/1436 [00:02<00:00, 611.73it/s]\n"
     ]
    }
   ],
   "source": [
    "step_counter = 0\n",
    "rewards = []\n",
    "\n",
    "for seed in tqdm(seeds):\n",
    "    #convert file into byte-array\n",
    "    byte_array = np.fromfile(seed_dir + seed, 'u1')\n",
    "    bit_array = np.unpackbits(byte_array) # min max normalized\n",
    "    #byte_array = vectorize\n",
    "    \n",
    "    if len(bit_array)>max_filesize:\n",
    "        bit_array = bit_array[:max_filesize]\n",
    "    else:\n",
    "        bit_array = np.pad(bit_array, (0, max_filesize - len(bit_array)), 'constant', \n",
    "                            constant_values=0)\n",
    "    \n",
    "    #get internal reward\n",
    "    state = torch.Tensor(bit_array).unsqueeze(0)\n",
    "    \n",
    "    reward_i = rnd_model.get_reward(state).detach().item()\n",
    "    #reward_i = rnd_model.get_reward(state).item()\n",
    "    \n",
    "    replay_buffer.append(bit_array)\n",
    "    rewards.append(reward_i)\n",
    "    \n",
    "    \n",
    "    step_counter += 1\n",
    "    \n",
    "    if step_counter > 100:\n",
    "        #update model\n",
    "        num = len(replay_buffer)\n",
    "        K = np.min([num, batch_size])\n",
    "        samples = random.sample(replay_buffer, K)\n",
    "        \n",
    "        S0 = torch.tensor(samples, dtype=torch.float)\n",
    "        \n",
    "        Ri = rnd_model.get_reward(S0)\n",
    "        rnd_model.update(Ri)\n",
    "        \n",
    "        #print('updated model')\n",
    "        step_counter = 0\n",
    "    "
   ]
  },
  {
   "cell_type": "code",
   "execution_count": 6,
   "metadata": {},
   "outputs": [
    {
     "data": {
      "text/plain": [
       "<matplotlib.axes._subplots.AxesSubplot at 0x7f8b582c3fd0>"
      ]
     },
     "execution_count": 6,
     "metadata": {},
     "output_type": "execute_result"
    },
    {
     "data": {
      "image/png": "[encoded data removed]",
      "text/plain": [
       "<Figure size 432x288 with 1 Axes>"
      ]
     },
     "metadata": {
      "needs_background": "light"
     },
     "output_type": "display_data"
    }
   ],
   "source": [
    "import pandas as pd\n",
    "df = pd.DataFrame(rewards)\n",
    "sb.lineplot(data=df)"
   ]
  },
  {
   "cell_type": "code",
   "execution_count": 77,
   "metadata": {},
   "outputs": [
    {
     "data": {
      "text/plain": [
       "1433"
      ]
     },
     "execution_count": 77,
     "metadata": {},
     "output_type": "execute_result"
    }
   ],
   "source": [
    "len(df.loc[df[0] < 0.5])"
   ]
  },
  {
   "cell_type": "code",
   "execution_count": 33,
   "metadata": {},
   "outputs": [
    {
     "data": {
      "text/plain": [
       "1436"
      ]
     },
     "execution_count": 33,
     "metadata": {},
     "output_type": "execute_result"
    }
   ],
   "source": [
    "len(df)"
   ]
  },
  {
   "cell_type": "code",
   "execution_count": 11,
   "metadata": {},
   "outputs": [
    {
     "data": {
      "text/plain": [
       "7304"
      ]
     },
     "execution_count": 11,
     "metadata": {},
     "output_type": "execute_result"
    }
   ],
   "source": [
    "len(np.fromfile('./initial_seeds/' + seeds[0], 'u1'))"
   ]
  },
  {
   "cell_type": "code",
   "execution_count": 45,
   "metadata": {},
   "outputs": [
    {
     "data": {
      "text/plain": [
       "array([127,  69,  76, ...,   0,   0,   0], dtype=uint8)"
      ]
     },
     "execution_count": 45,
     "metadata": {},
     "output_type": "execute_result"
    }
   ],
   "source": [
    "byte_array = np.fromfile('./initial_seeds/' + seeds[0], 'u1')\n",
    "byte_array"
   ]
  },
  {
   "cell_type": "code",
   "execution_count": null,
   "metadata": {},
   "outputs": [],
   "source": []
  },
  {
   "cell_type": "code",
   "execution_count": null,
   "metadata": {},
   "outputs": [],
   "source": []
  }
 ],
 "metadata": {
  "kernelspec": {
   "display_name": "Python 3",
   "language": "python",
   "name": "python3"
  },
  "language_info": {
   "codemirror_mode": {
    "name": "ipython",
    "version": 3
   },
   "file_extension": ".py",
   "mimetype": "text/x-python",
   "name": "python",
   "nbconvert_exporter": "python",
   "pygments_lexer": "ipython3",
   "version": "3.7.3"
  }
 },
 "nbformat": 4,
 "nbformat_minor": 4
}
