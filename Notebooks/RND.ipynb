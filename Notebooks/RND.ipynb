{
 "cells": [
  {
   "cell_type": "code",
   "execution_count": 82,
   "metadata": {},
   "outputs": [],
   "source": [
    "import sys\n",
    "sys.path.append('..')\n",
    "from CuriousAFL.rnd import RND\n",
    "import os\n",
    "import numpy as np\n",
    "import torch\n",
    "import seaborn as sb\n",
    "import random\n",
    "from tqdm import tqdm\n",
    "from collections import deque\n",
    "\n",
    "# epochs are controlled by AFL\n",
    "retrain_every_x_seeds = 10**2\n",
    "\n",
    "max_filesize = 2**8\n",
    "learning_rate = 1e-4\n",
    "\n",
    "rnd_model = None\n",
    "#random sample of files to retrain model\n",
    "\n",
    "input_dim = max_filesize\n",
    "output_dim = 2 #fuzz or don't - 2 possible actions\n",
    "\n",
    "batch_size = 128 # TODO: WHY?\n",
    "replay_buffer = deque(maxlen=64) \n"
   ]
  },
  {
   "cell_type": "code",
   "execution_count": null,
   "metadata": {},
   "outputs": [],
   "source": []
  },
  {
   "cell_type": "code",
   "execution_count": 2,
   "metadata": {},
   "outputs": [],
   "source": [
    "seed_dir = '../test/neuzz_in/'\n",
    "seeds = os.listdir(seed_dir)"
   ]
  },
  {
   "cell_type": "code",
   "execution_count": 3,
   "metadata": {},
   "outputs": [],
   "source": [
    "\n",
    "def vectorize(input_file):\n",
    "\n",
    "    shape = np.zeros(shape=(max_filesize, 8))\n",
    "\n",
    "    with open(input_file, \"rb\") as f:\n",
    "        byte = f.read(1)\n",
    "        byte_pos = 0\n",
    "        print(byte)\n",
    "        while byte:\n",
    "            bits = bin(int.from_bytes(byte, byteorder=\"big\"))[2:].zfill(8)\n",
    "           \n",
    "            for n, bit in enumerate(bits):\n",
    "                if bit == '1':\n",
    "                    shape[byte_pos, n] = 1.\n",
    "            break\n",
    "            byte = f.read(1)\n",
    "            byte_pos += 1\n",
    "\n",
    "    return shape\n"
   ]
  },
  {
   "cell_type": "code",
   "execution_count": 4,
   "metadata": {},
   "outputs": [],
   "source": [
    "from mmap import ACCESS_READ, mmap\n",
    "\n",
    "with open('./initial_seeds/' + seeds[0], 'rb', 0) as f, mmap(f.fileno(), 0, access=ACCESS_READ) as s:\n",
    "    arr = s"
   ]
  },
  {
   "cell_type": "code",
   "execution_count": 83,
   "metadata": {},
   "outputs": [],
   "source": [
    "rnd_model = RND(in_dim=input_dim, out_dim=1, n_hid=int(input_dim/8))"
   ]
  },
  {
   "cell_type": "code",
   "execution_count": 84,
   "metadata": {},
   "outputs": [],
   "source": [
    "step_counter = 0\n",
    "rewards = []\n",
    "\n",
    "for seed in seeds:\n",
    "    #convert file into byte-array\n",
    "    byte_array = np.fromfile(seed_dir + seed, 'u1')\n",
    "    byte_array = byte_array / 255 # min max normalized\n",
    "    #byte_array = vectorize\n",
    "    \n",
    "    if len(byte_array)>max_filesize:\n",
    "        byte_array = byte_array[:max_filesize]\n",
    "    else:\n",
    "        byte_array = np.pad(byte_array, (0, max_filesize - len(byte_array)), 'constant', \n",
    "                            constant_values=0)\n",
    "    \n",
    "    #get internal reward\n",
    "    state = torch.Tensor(byte_array) #.unsqueeze(0)\n",
    "    \n",
    "    reward_i = rnd_model.get_reward(state).detach().clamp(0.0,1.0).item()\n",
    "    #reward_i = rnd_model.get_reward(state).item()\n",
    "    \n",
    "    replay_buffer.append(byte_array)\n",
    "    rewards.append(reward_i)\n",
    "    \n",
    "    \n",
    "    step_counter += 1\n",
    "    \n",
    "    if step_counter > batch_size:\n",
    "        #update model\n",
    "        num = len(replay_buffer)\n",
    "        K = np.min([num, batch_size])\n",
    "        samples = random.sample(replay_buffer, K)\n",
    "        \n",
    "        S0 = torch.tensor(samples, dtype=torch.float)\n",
    "        \n",
    "        Ri = rnd_model.get_reward(S0)\n",
    "        rnd_model.update(Ri)\n",
    "        \n",
    "        #print('updated model')\n",
    "        step_counter = 0\n",
    "    "
   ]
  },
  {
   "cell_type": "code",
   "execution_count": 86,
   "metadata": {},
   "outputs": [
    {
     "data": {
      "text/plain": [
       "<matplotlib.axes._subplots.AxesSubplot at 0x7f2f1df10240>"
      ]
     },
     "execution_count": 86,
     "metadata": {},
     "output_type": "execute_result"
    },
    {
     "data": {
      "image/png": "[encoded data removed]",
      "text/plain": [
       "<Figure size 432x288 with 1 Axes>"
      ]
     },
     "metadata": {
      "needs_background": "light"
     },
     "output_type": "display_data"
    }
   ],
   "source": [
    "import pandas as pd\n",
    "df = pd.DataFrame(rewards)\n",
    "sb.lineplot(data=df)"
   ]
  },
  {
   "cell_type": "code",
   "execution_count": 77,
   "metadata": {},
   "outputs": [
    {
     "data": {
      "text/plain": [
       "1433"
      ]
     },
     "execution_count": 77,
     "metadata": {},
     "output_type": "execute_result"
    }
   ],
   "source": [
    "len(df.loc[df[0] < 0.5])"
   ]
  },
  {
   "cell_type": "code",
   "execution_count": 33,
   "metadata": {},
   "outputs": [
    {
     "data": {
      "text/plain": [
       "1436"
      ]
     },
     "execution_count": 33,
     "metadata": {},
     "output_type": "execute_result"
    }
   ],
   "source": [
    "len(df)"
   ]
  },
  {
   "cell_type": "code",
   "execution_count": 11,
   "metadata": {},
   "outputs": [
    {
     "data": {
      "text/plain": [
       "7304"
      ]
     },
     "execution_count": 11,
     "metadata": {},
     "output_type": "execute_result"
    }
   ],
   "source": [
    "len(np.fromfile('./initial_seeds/' + seeds[0], 'u1'))"
   ]
  },
  {
   "cell_type": "code",
   "execution_count": 45,
   "metadata": {},
   "outputs": [
    {
     "data": {
      "text/plain": [
       "array([127,  69,  76, ...,   0,   0,   0], dtype=uint8)"
      ]
     },
     "execution_count": 45,
     "metadata": {},
     "output_type": "execute_result"
    }
   ],
   "source": [
    "byte_array = np.fromfile('./initial_seeds/' + seeds[0], 'u1')\n",
    "byte_array"
   ]
  },
  {
   "cell_type": "code",
   "execution_count": null,
   "metadata": {},
   "outputs": [],
   "source": []
  },
  {
   "cell_type": "code",
   "execution_count": null,
   "metadata": {},
   "outputs": [],
   "source": []
  }
 ],
 "metadata": {
  "kernelspec": {
   "display_name": "Python 3",
   "language": "python",
   "name": "python3"
  },
  "language_info": {
   "codemirror_mode": {
    "name": "ipython",
    "version": 3
   },
   "file_extension": ".py",
   "mimetype": "text/x-python",
   "name": "python",
   "nbconvert_exporter": "python",
   "pygments_lexer": "ipython3",
   "version": "3.7.3"
  }
 },
 "nbformat": 4,
 "nbformat_minor": 4
}
