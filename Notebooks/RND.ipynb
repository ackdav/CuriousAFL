{
 "cells": [
  {
   "cell_type": "code",
   "execution_count": 53,
   "metadata": {},
   "outputs": [],
   "source": [
    "import sys\n",
    "sys.path.append('..')\n",
    "from CuriousAFL.rnd import RND\n",
    "import os\n",
    "import numpy as np\n",
    "import torch\n",
    "import seaborn as sb\n",
    "import random\n",
    "from tqdm import tqdm\n",
    "from collections import deque\n",
    "\n",
    "# epochs are controlled by AFL\n",
    "retrain_every_x_seeds = 5\n",
    "\n",
    "max_filesize = 2**14\n",
    "out_size = 2**6\n",
    "learning_rate = 1e-4\n",
    "\n",
    "rnd_model = None\n",
    "#random sample of files to retrain model\n",
    "\n",
    "input_dim = max_filesize\n",
    "output_dim = 2 #fuzz or don't - 2 possible actions\n",
    "\n",
    "batch_size = 128 # TODO: WHY?\n",
    "replay_buffer = deque(maxlen=64) \n"
   ]
  },
  {
   "cell_type": "code",
   "execution_count": null,
   "metadata": {},
   "outputs": [],
   "source": []
  },
  {
   "cell_type": "code",
   "execution_count": 5,
   "metadata": {},
   "outputs": [],
   "source": [
    "seed_dir = '../test/initial_seeds/'\n",
    "seeds = os.listdir(seed_dir)"
   ]
  },
  {
   "cell_type": "code",
   "execution_count": 3,
   "metadata": {},
   "outputs": [],
   "source": [
    "\n",
    "def vectorize(input_file):\n",
    "\n",
    "    shape = np.zeros(shape=(max_filesize, 8))\n",
    "\n",
    "    with open(input_file, \"rb\") as f:\n",
    "        byte = f.read(1)\n",
    "        byte_pos = 0\n",
    "        print(byte)\n",
    "        while byte:\n",
    "            bits = bin(int.from_bytes(byte, byteorder=\"big\"))[2:].zfill(8)\n",
    "           \n",
    "            for n, bit in enumerate(bits):\n",
    "                if bit == '1':\n",
    "                    shape[byte_pos, n] = 1.\n",
    "            break\n",
    "            byte = f.read(1)\n",
    "            byte_pos += 1\n",
    "\n",
    "    return shape\n"
   ]
  },
  {
   "cell_type": "code",
   "execution_count": 4,
   "metadata": {},
   "outputs": [],
   "source": [
    "from mmap import ACCESS_READ, mmap\n",
    "\n",
    "with open('./initial_seeds/' + seeds[0], 'rb', 0) as f, mmap(f.fileno(), 0, access=ACCESS_READ) as s:\n",
    "    arr = s"
   ]
  },
  {
   "cell_type": "code",
   "execution_count": 59,
   "metadata": {},
   "outputs": [
    {
     "name": "stderr",
     "output_type": "stream",
     "text": [
      " 21%|██        | 300/1436 [00:30<01:05, 17.23it/s]"
     ]
    }
   ],
   "source": [
    "rnd_model = RND(in_dim=input_dim, out_dim=out_size, n_hid=int(input_dim/8))"
   ]
  },
  {
   "cell_type": "code",
   "execution_count": 60,
   "metadata": {
    "collapsed": true,
    "jupyter": {
     "outputs_hidden": true
    }
   },
   "outputs": [
    {
     "name": "stderr",
     "output_type": "stream",
     "text": [
      "\n",
      "  0%|          | 0/1436 [00:00<?, ?it/s]\u001b[A\n",
      "  1%|          | 8/1436 [00:00<00:18, 76.72it/s]\u001b[A\n",
      "  1%|          | 17/1436 [00:00<00:18, 78.61it/s]\u001b[A\n",
      "  2%|▏         | 26/1436 [00:00<00:17, 80.23it/s]\u001b[A\n",
      "  2%|▏         | 35/1436 [00:00<00:17, 81.34it/s]\u001b[A\n",
      "  3%|▎         | 44/1436 [00:00<00:17, 81.74it/s]\u001b[A\n",
      "  4%|▎         | 53/1436 [00:00<00:16, 82.19it/s]\u001b[A\n",
      "  4%|▍         | 62/1436 [00:00<00:16, 82.89it/s]\u001b[A\n",
      "  5%|▍         | 71/1436 [00:00<00:16, 83.02it/s]\u001b[A\n",
      "  6%|▌         | 80/1436 [00:00<00:16, 83.44it/s]\u001b[A\n",
      "  6%|▌         | 89/1436 [00:01<00:16, 83.65it/s]\u001b[A\n",
      "  7%|▋         | 98/1436 [00:01<00:16, 80.30it/s]\u001b[A\n",
      "  7%|▋         | 106/1436 [00:01<00:17, 77.42it/s]\u001b[A\n",
      "  8%|▊         | 114/1436 [00:01<00:17, 76.06it/s]\u001b[A\n",
      "  9%|▊         | 123/1436 [00:01<00:16, 78.04it/s]\u001b[A\n",
      "  9%|▉         | 131/1436 [00:01<00:16, 78.54it/s]\u001b[A\n",
      " 10%|▉         | 139/1436 [00:01<00:16, 78.83it/s]\u001b[A\n",
      " 10%|█         | 148/1436 [00:01<00:16, 79.42it/s]\u001b[A\n",
      " 11%|█         | 156/1436 [00:02<00:29, 43.19it/s]\u001b[A\n",
      " 11%|█▏        | 165/1436 [00:02<00:25, 50.36it/s]\u001b[A\n",
      " 12%|█▏        | 174/1436 [00:02<00:22, 57.10it/s]\u001b[A\n",
      " 13%|█▎        | 183/1436 [00:02<00:19, 63.03it/s]\u001b[A\n",
      " 13%|█▎        | 192/1436 [00:02<00:18, 67.91it/s]\u001b[A\n",
      " 14%|█▍        | 200/1436 [00:02<00:17, 71.13it/s]\u001b[A\n",
      " 15%|█▍        | 209/1436 [00:02<00:16, 74.08it/s]\u001b[A\n",
      " 15%|█▌        | 217/1436 [00:02<00:16, 73.82it/s]\u001b[A\n",
      " 16%|█▌        | 225/1436 [00:03<00:16, 75.21it/s]\u001b[A\n",
      " 16%|█▌        | 233/1436 [00:03<00:16, 74.41it/s]\u001b[A\n",
      " 17%|█▋        | 241/1436 [00:03<00:16, 73.74it/s]\u001b[A\n",
      " 17%|█▋        | 250/1436 [00:03<00:15, 76.81it/s]\u001b[A\n",
      " 18%|█▊        | 259/1436 [00:03<00:14, 79.35it/s]\u001b[A\n",
      " 19%|█▊        | 268/1436 [00:03<00:14, 80.07it/s]\u001b[A\n",
      " 19%|█▉        | 277/1436 [00:03<00:14, 81.30it/s]\u001b[A\n",
      " 20%|█▉        | 286/1436 [00:03<00:13, 82.52it/s]\u001b[A\n",
      " 21%|██        | 295/1436 [00:03<00:13, 83.58it/s]\u001b[A\n",
      " 21%|██        | 304/1436 [00:04<00:23, 47.27it/s]\u001b[A\n",
      " 22%|██▏       | 313/1436 [00:04<00:20, 54.48it/s]\u001b[A\n",
      " 22%|██▏       | 322/1436 [00:04<00:18, 61.17it/s]\u001b[A\n",
      " 23%|██▎       | 331/1436 [00:04<00:16, 66.59it/s]\u001b[A\n",
      " 24%|██▎       | 340/1436 [00:04<00:15, 71.27it/s]\u001b[A\n",
      " 24%|██▍       | 349/1436 [00:04<00:14, 74.97it/s]\u001b[A\n",
      " 25%|██▍       | 358/1436 [00:04<00:13, 77.99it/s]\u001b[A\n",
      " 26%|██▌       | 367/1436 [00:05<00:13, 80.24it/s]\u001b[A\n",
      " 26%|██▌       | 376/1436 [00:05<00:12, 81.87it/s]\u001b[A\n",
      " 27%|██▋       | 385/1436 [00:05<00:12, 82.91it/s]\u001b[A\n",
      " 27%|██▋       | 394/1436 [00:05<00:12, 83.82it/s]\u001b[A\n",
      " 28%|██▊       | 403/1436 [00:05<00:12, 84.04it/s]\u001b[A\n",
      " 29%|██▊       | 412/1436 [00:05<00:12, 82.74it/s]\u001b[A\n",
      " 29%|██▉       | 421/1436 [00:05<00:12, 83.67it/s]\u001b[A\n",
      " 30%|██▉       | 430/1436 [00:05<00:11, 84.13it/s]\u001b[A\n",
      " 31%|███       | 439/1436 [00:05<00:11, 84.77it/s]\u001b[A\n",
      " 31%|███       | 448/1436 [00:06<00:11, 85.17it/s]\u001b[A\n",
      " 32%|███▏      | 457/1436 [00:06<00:20, 48.22it/s]\u001b[A\n",
      " 32%|███▏      | 466/1436 [00:06<00:17, 55.36it/s]\u001b[A\n",
      " 33%|███▎      | 475/1436 [00:06<00:15, 61.82it/s]\u001b[A\n",
      " 34%|███▎      | 484/1436 [00:06<00:14, 66.58it/s]\u001b[A\n",
      " 34%|███▍      | 493/1436 [00:06<00:13, 71.01it/s]\u001b[A\n",
      " 35%|███▍      | 502/1436 [00:06<00:12, 74.57it/s]\u001b[A\n",
      " 36%|███▌      | 511/1436 [00:07<00:11, 77.28it/s]\u001b[A\n",
      " 36%|███▌      | 520/1436 [00:07<00:11, 79.58it/s]\u001b[A\n",
      " 37%|███▋      | 529/1436 [00:07<00:11, 81.04it/s]\u001b[A\n",
      " 37%|███▋      | 538/1436 [00:07<00:10, 82.16it/s]\u001b[A\n",
      " 38%|███▊      | 547/1436 [00:07<00:10, 82.86it/s]\u001b[A\n",
      " 39%|███▊      | 556/1436 [00:07<00:10, 83.33it/s]\u001b[A\n",
      " 39%|███▉      | 565/1436 [00:07<00:10, 83.06it/s]\u001b[A\n",
      " 40%|███▉      | 574/1436 [00:07<00:10, 83.81it/s]\u001b[A\n",
      " 41%|████      | 583/1436 [00:07<00:10, 83.02it/s]\u001b[A\n",
      " 41%|████      | 592/1436 [00:07<00:10, 82.52it/s]\u001b[A\n",
      " 42%|████▏     | 601/1436 [00:08<00:10, 82.97it/s]\u001b[A\n",
      " 42%|████▏     | 610/1436 [00:08<00:17, 47.56it/s]\u001b[A\n",
      " 43%|████▎     | 619/1436 [00:08<00:15, 54.42it/s]\u001b[A\n",
      " 44%|████▎     | 628/1436 [00:08<00:13, 60.42it/s]\u001b[A\n",
      " 44%|████▍     | 637/1436 [00:08<00:12, 66.25it/s]\u001b[A\n",
      " 45%|████▍     | 646/1436 [00:08<00:11, 70.96it/s]\u001b[A\n",
      " 46%|████▌     | 655/1436 [00:09<00:10, 74.93it/s]\u001b[A\n",
      " 46%|████▌     | 664/1436 [00:09<00:09, 77.94it/s]\u001b[A\n",
      " 47%|████▋     | 673/1436 [00:09<00:09, 80.27it/s]\u001b[A\n",
      " 47%|████▋     | 682/1436 [00:09<00:09, 81.90it/s]\u001b[A\n",
      " 48%|████▊     | 691/1436 [00:09<00:08, 83.17it/s]\u001b[A\n",
      " 49%|████▊     | 700/1436 [00:09<00:08, 82.67it/s]\u001b[A\n",
      " 49%|████▉     | 709/1436 [00:09<00:08, 83.56it/s]\u001b[A\n",
      " 50%|█████     | 718/1436 [00:09<00:08, 83.72it/s]\u001b[A\n",
      " 51%|█████     | 727/1436 [00:09<00:08, 83.44it/s]\u001b[A\n",
      " 51%|█████▏    | 736/1436 [00:09<00:08, 84.25it/s]\u001b[A\n",
      " 52%|█████▏    | 745/1436 [00:10<00:08, 84.78it/s]\u001b[A\n",
      " 53%|█████▎    | 754/1436 [00:10<00:08, 84.39it/s]\u001b[A\n",
      " 53%|█████▎    | 763/1436 [00:10<00:14, 47.03it/s]\u001b[A\n",
      " 54%|█████▍    | 772/1436 [00:10<00:12, 54.34it/s]\u001b[A\n",
      " 54%|█████▍    | 781/1436 [00:10<00:10, 60.90it/s]\u001b[A\n",
      " 55%|█████▌    | 790/1436 [00:10<00:09, 65.80it/s]\u001b[A\n",
      " 56%|█████▌    | 799/1436 [00:10<00:09, 70.62it/s]\u001b[A\n",
      " 56%|█████▋    | 808/1436 [00:11<00:08, 74.28it/s]\u001b[A\n",
      " 57%|█████▋    | 817/1436 [00:11<00:08, 77.34it/s]\u001b[A\n",
      " 58%|█████▊    | 826/1436 [00:11<00:07, 79.79it/s]\u001b[A\n",
      " 58%|█████▊    | 835/1436 [00:11<00:07, 81.15it/s]\u001b[A\n",
      " 59%|█████▉    | 844/1436 [00:11<00:07, 82.44it/s]\u001b[A\n",
      " 59%|█████▉    | 853/1436 [00:11<00:06, 83.45it/s]\u001b[A\n",
      " 60%|██████    | 862/1436 [00:11<00:06, 84.23it/s]\u001b[A\n",
      " 61%|██████    | 871/1436 [00:11<00:06, 84.66it/s]\u001b[A\n",
      " 61%|██████▏   | 880/1436 [00:11<00:06, 84.88it/s]\u001b[A\n",
      " 62%|██████▏   | 889/1436 [00:12<00:06, 83.38it/s]\u001b[A\n",
      " 63%|██████▎   | 898/1436 [00:12<00:06, 83.48it/s]\u001b[A\n",
      " 63%|██████▎   | 907/1436 [00:12<00:11, 47.42it/s]\u001b[A\n",
      " 64%|██████▍   | 916/1436 [00:12<00:09, 54.60it/s]\u001b[A\n",
      " 64%|██████▍   | 925/1436 [00:12<00:08, 61.10it/s]\u001b[A\n",
      " 65%|██████▌   | 934/1436 [00:12<00:07, 66.57it/s]\u001b[A\n",
      " 66%|██████▌   | 943/1436 [00:12<00:06, 71.03it/s]\u001b[A\n",
      " 66%|██████▋   | 952/1436 [00:13<00:06, 74.74it/s]\u001b[A\n",
      " 67%|██████▋   | 961/1436 [00:13<00:06, 77.45it/s]\u001b[A\n",
      " 68%|██████▊   | 970/1436 [00:13<00:05, 79.72it/s]\u001b[A\n",
      " 68%|██████▊   | 979/1436 [00:13<00:05, 81.49it/s]\u001b[A\n",
      " 69%|██████▉   | 988/1436 [00:13<00:05, 82.42it/s]\u001b[A\n",
      " 69%|██████▉   | 997/1436 [00:13<00:05, 83.45it/s]\u001b[A\n",
      " 70%|███████   | 1006/1436 [00:13<00:05, 83.65it/s]\u001b[A\n",
      " 71%|███████   | 1015/1436 [00:13<00:05, 84.12it/s]\u001b[A\n",
      " 71%|███████▏  | 1024/1436 [00:13<00:04, 84.18it/s]\u001b[A\n",
      " 72%|███████▏  | 1033/1436 [00:14<00:04, 84.16it/s]\u001b[A\n",
      " 73%|███████▎  | 1042/1436 [00:14<00:04, 84.35it/s]\u001b[A\n",
      " 73%|███████▎  | 1051/1436 [00:14<00:04, 83.99it/s]\u001b[A\n",
      " 74%|███████▍  | 1060/1436 [00:14<00:07, 48.12it/s]\u001b[A\n",
      " 74%|███████▍  | 1068/1436 [00:14<00:06, 52.93it/s]\u001b[A\n",
      " 75%|███████▍  | 1075/1436 [00:14<00:06, 56.16it/s]\u001b[A\n",
      " 75%|███████▌  | 1082/1436 [00:14<00:05, 59.65it/s]\u001b[A\n",
      " 76%|███████▌  | 1090/1436 [00:15<00:05, 62.69it/s]\u001b[A\n",
      " 76%|███████▋  | 1098/1436 [00:15<00:05, 65.34it/s]\u001b[A\n",
      " 77%|███████▋  | 1107/1436 [00:15<00:04, 68.95it/s]\u001b[A\n",
      " 78%|███████▊  | 1115/1436 [00:15<00:04, 68.03it/s]\u001b[A\n",
      " 78%|███████▊  | 1123/1436 [00:15<00:04, 69.01it/s]\u001b[A\n",
      " 79%|███████▉  | 1131/1436 [00:15<00:04, 70.64it/s]\u001b[A\n",
      " 79%|███████▉  | 1139/1436 [00:15<00:04, 73.11it/s]\u001b[A\n",
      " 80%|███████▉  | 1147/1436 [00:15<00:03, 75.05it/s]\u001b[A\n",
      " 81%|████████  | 1156/1436 [00:15<00:03, 76.61it/s]\u001b[A\n",
      " 81%|████████  | 1165/1436 [00:16<00:03, 77.77it/s]\u001b[A\n",
      " 82%|████████▏ | 1174/1436 [00:16<00:03, 80.00it/s]\u001b[A\n",
      " 82%|████████▏ | 1183/1436 [00:16<00:03, 81.38it/s]\u001b[A\n",
      " 83%|████████▎ | 1192/1436 [00:16<00:02, 82.46it/s]\u001b[A\n",
      " 84%|████████▎ | 1201/1436 [00:16<00:02, 83.32it/s]\u001b[A\n",
      " 84%|████████▍ | 1210/1436 [00:16<00:04, 47.95it/s]\u001b[A\n",
      " 85%|████████▍ | 1219/1436 [00:16<00:03, 55.28it/s]\u001b[A\n",
      " 86%|████████▌ | 1228/1436 [00:17<00:03, 61.84it/s]\u001b[A\n",
      " 86%|████████▌ | 1237/1436 [00:17<00:02, 66.97it/s]\u001b[A\n",
      " 87%|████████▋ | 1246/1436 [00:17<00:02, 71.06it/s]\u001b[A\n",
      " 87%|████████▋ | 1255/1436 [00:17<00:02, 73.91it/s]\u001b[A\n",
      " 88%|████████▊ | 1264/1436 [00:17<00:02, 76.28it/s]\u001b[A\n",
      " 89%|████████▊ | 1273/1436 [00:17<00:02, 78.33it/s]\u001b[A\n",
      " 89%|████████▉ | 1282/1436 [00:17<00:01, 80.29it/s]\u001b[A\n",
      " 90%|████████▉ | 1291/1436 [00:17<00:01, 81.86it/s]\u001b[A\n",
      " 91%|█████████ | 1300/1436 [00:17<00:01, 82.78it/s]\u001b[A\n",
      " 91%|█████████ | 1309/1436 [00:18<00:01, 83.74it/s]\u001b[A\n",
      " 92%|█████████▏| 1318/1436 [00:18<00:01, 84.30it/s]\u001b[A\n",
      " 92%|█████████▏| 1327/1436 [00:18<00:01, 83.93it/s]\u001b[A\n",
      " 93%|█████████▎| 1336/1436 [00:18<00:01, 84.25it/s]\u001b[A\n",
      " 94%|█████████▎| 1345/1436 [00:18<00:01, 84.72it/s]\u001b[A\n",
      " 94%|█████████▍| 1354/1436 [00:18<00:00, 84.20it/s]\u001b[A\n",
      " 95%|█████████▍| 1363/1436 [00:18<00:01, 47.92it/s]\u001b[A\n",
      " 96%|█████████▌| 1372/1436 [00:19<00:01, 55.28it/s]\u001b[A\n",
      " 96%|█████████▌| 1381/1436 [00:19<00:00, 61.92it/s]\u001b[A\n",
      " 97%|█████████▋| 1390/1436 [00:19<00:00, 67.60it/s]\u001b[A\n",
      " 97%|█████████▋| 1399/1436 [00:19<00:00, 71.95it/s]\u001b[A\n",
      " 98%|█████████▊| 1408/1436 [00:19<00:00, 75.40it/s]\u001b[A\n",
      " 99%|█████████▊| 1417/1436 [00:19<00:00, 78.32it/s]\u001b[A\n",
      " 99%|█████████▉| 1426/1436 [00:19<00:00, 80.24it/s]\u001b[A\n",
      "100%|█████████▉| 1435/1436 [00:19<00:00, 81.88it/s]\u001b[A\n",
      "100%|██████████| 1436/1436 [00:19<00:00, 72.61it/s]\u001b[A"
     ]
    }
   ],
   "source": [
    "step_counter = 0\n",
    "rewards = []\n",
    "\n",
    "for seed in seeds:\n",
    "    #convert file into byte-array\n",
    "    byte_array = np.fromfile(seed_dir + seed, 'u1')\n",
    "    byte_array = byte_array / 255 # min max normalized\n",
    "    #byte_array = vectorize\n",
    "    \n",
    "    if len(byte_array)>max_filesize:\n",
    "        byte_array = byte_array[:max_filesize]\n",
    "    else:\n",
    "        byte_array = np.pad(byte_array, (0, max_filesize - len(byte_array)), 'constant', \n",
    "                            constant_values=0)\n",
    "    \n",
    "    #get internal reward\n",
    "    state = torch.Tensor(byte_array).unsqueeze(0)\n",
    "    \n",
    "    reward_i = rnd_model.get_reward(state).detach().item()\n",
    "    #reward_i = rnd_model.get_reward(state).item()\n",
    "    \n",
    "    replay_buffer.append(byte_array)\n",
    "    rewards.append(reward_i)\n",
    "    \n",
    "    \n",
    "    step_counter += 1\n",
    "    \n",
    "    if step_counter > 150:\n",
    "        #update model\n",
    "        num = len(replay_buffer)\n",
    "        K = np.min([num, batch_size])\n",
    "        samples = random.sample(replay_buffer, K)\n",
    "        \n",
    "        S0 = torch.tensor(samples, dtype=torch.float)\n",
    "        \n",
    "        Ri = rnd_model.get_reward(S0)\n",
    "        rnd_model.update(Ri)\n",
    "        \n",
    "        #print('updated model')\n",
    "        step_counter = 0\n",
    "    "
   ]
  },
  {
   "cell_type": "code",
   "execution_count": 61,
   "metadata": {},
   "outputs": [
    {
     "data": {
      "text/plain": [
       "<matplotlib.axes._subplots.AxesSubplot at 0x7f931c6be3c8>"
      ]
     },
     "execution_count": 61,
     "metadata": {},
     "output_type": "execute_result"
    },
    {
     "data": {
      "image/png": "[encoded data removed]",
      "text/plain": [
       "<Figure size 432x288 with 1 Axes>"
      ]
     },
     "metadata": {
      "needs_background": "light"
     },
     "output_type": "display_data"
    }
   ],
   "source": [
    "import pandas as pd\n",
    "df = pd.DataFrame(rewards)\n",
    "sb.lineplot(data=df)"
   ]
  },
  {
   "cell_type": "code",
   "execution_count": 77,
   "metadata": {},
   "outputs": [
    {
     "data": {
      "text/plain": [
       "1433"
      ]
     },
     "execution_count": 77,
     "metadata": {},
     "output_type": "execute_result"
    }
   ],
   "source": [
    "len(df.loc[df[0] < 0.5])"
   ]
  },
  {
   "cell_type": "code",
   "execution_count": 33,
   "metadata": {},
   "outputs": [
    {
     "data": {
      "text/plain": [
       "1436"
      ]
     },
     "execution_count": 33,
     "metadata": {},
     "output_type": "execute_result"
    }
   ],
   "source": [
    "len(df)"
   ]
  },
  {
   "cell_type": "code",
   "execution_count": 11,
   "metadata": {},
   "outputs": [
    {
     "data": {
      "text/plain": [
       "7304"
      ]
     },
     "execution_count": 11,
     "metadata": {},
     "output_type": "execute_result"
    }
   ],
   "source": [
    "len(np.fromfile('./initial_seeds/' + seeds[0], 'u1'))"
   ]
  },
  {
   "cell_type": "code",
   "execution_count": 45,
   "metadata": {},
   "outputs": [
    {
     "data": {
      "text/plain": [
       "array([127,  69,  76, ...,   0,   0,   0], dtype=uint8)"
      ]
     },
     "execution_count": 45,
     "metadata": {},
     "output_type": "execute_result"
    }
   ],
   "source": [
    "byte_array = np.fromfile('./initial_seeds/' + seeds[0], 'u1')\n",
    "byte_array"
   ]
  },
  {
   "cell_type": "code",
   "execution_count": null,
   "metadata": {},
   "outputs": [],
   "source": []
  },
  {
   "cell_type": "code",
   "execution_count": null,
   "metadata": {},
   "outputs": [],
   "source": []
  }
 ],
 "metadata": {
  "kernelspec": {
   "display_name": "Python 3",
   "language": "python",
   "name": "python3"
  },
  "language_info": {
   "codemirror_mode": {
    "name": "ipython",
    "version": 3
   },
   "file_extension": ".py",
   "mimetype": "text/x-python",
   "name": "python",
   "nbconvert_exporter": "python",
   "pygments_lexer": "ipython3",
   "version": "3.7.3"
  }
 },
 "nbformat": 4,
 "nbformat_minor": 4
}
